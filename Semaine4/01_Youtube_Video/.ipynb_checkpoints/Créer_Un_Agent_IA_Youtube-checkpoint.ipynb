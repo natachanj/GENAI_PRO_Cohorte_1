{
 "cells": [
  {
   "cell_type": "markdown",
   "id": "34d5143b-d5b4-4788-befb-50da4c3f3f97",
   "metadata": {},
   "source": [
    "# Agent IA : Extraction et Analyse de Transcriptions YouTube avec GPT-4o\n",
    "\n",
    "Ce document explique le fonctionnement d'un agent conversationnel intelligent qui peut :\n",
    "\n",
    "* Extraire automatiquement la transcription d'une vidéo YouTube\n",
    "* Utiliser cette transcription pour répondre à des questions en langage naturel\n",
    "* S'appuyer sur le modèle GPT-4o pour une compréhension plus poussée et des réponses précises\n",
    "\n",
    "\n",
    "\n",
    "##  Outils et bibliothèques utilisés\n",
    "\n",
    "| Outil / Librairie        | Rôle                                                                          |\n",
    "| ------------------------ | ----------------------------------------------------------------------------- |\n",
    "| `youtube_transcript_api` | Récupération des sous-titres (transcriptions) depuis une URL YouTube          |\n",
    "| `agents`                 | Création de l'agent, déclaration de la fonction outil, streaming des réponses |\n",
    "| `dotenv`                 | Chargement de la clé OpenAI depuis un fichier `.env` pour plus de sécurité    |\n",
    "| `openai.types.responses` | Gestion des réponses à flux continu avec `ResponseTextDeltaEvent`             |\n",
    "| `asyncio`                | Gestion de la boucle de dialogue de façon non bloquante                       |\n",
    "\n",
    "\n",
    "##  Etapes clés du fonctionnement de l'agent\n",
    "\n",
    "### 1. Chargement des variables d'environnement\n",
    "\n",
    "On utilise `load_dotenv()` pour charger la clé API OpenAI (\n",
    "`OPENAI_API_KEY`) depuis un fichier `.env`. Cela évite de stocker des clés sensibles en dur dans le code.\n",
    "\n",
    "\n",
    "### 2. Définition de la fonction outil : `fetch_youtube_transcript()`\n",
    "\n",
    "* Reçoit une URL YouTube\n",
    "* Extrait l'identifiant de la vidéo\n",
    "* Utilise `.fetch()` pour récupérer les sous-titres\n",
    "* Formate chaque entrée avec un timestamp `[MM:SS]`\n",
    "\n",
    "Cette fonction est décorée avec `@function_tool` pour être utilisable par l'agent automatiquement.\n",
    "\n",
    "\n",
    "\n",
    "### 3. Création de l'agent avec `Agent()`\n",
    "\n",
    "L'agent est créé avec :\n",
    "\n",
    "* Un nom\n",
    "* Des instructions : d'abord récupérer la transcription, puis répondre aux questions\n",
    "* L'outil `fetch_youtube_transcript`\n",
    "* Le modèle **GPT-4o**, qui permet de gérer des contextes longs et répondre de façon naturelle\n",
    "\n",
    "\n",
    "### 4. Boucle de dialogue interactive\n",
    "\n",
    "L'utilisateur peut saisir :\n",
    "\n",
    "* Une question textuelle (ex : \"De quoi parle la vidéo ?\")\n",
    "* Une URL de vidéo YouTube\n",
    "\n",
    "L'agent gère les deux cas automatiquement. La transcription est appelée si besoin, puis stockée.\n",
    "\n",
    "\n",
    "\n"
   ]
  },
  {
   "cell_type": "code",
   "execution_count": 13,
   "id": "30efc495-5f84-497e-9044-55549521f816",
   "metadata": {},
   "outputs": [
    {
     "name": "stdout",
     "output_type": "stream",
     "text": [
      "Requirement already satisfied: jupyterlab in /opt/anaconda3/envs/genai-env/lib/python3.10/site-packages (4.4.5)\n",
      "Requirement already satisfied: ipykernel in /opt/anaconda3/envs/genai-env/lib/python3.10/site-packages (6.30.0)\n",
      "Requirement already satisfied: ipywidgets in /opt/anaconda3/envs/genai-env/lib/python3.10/site-packages (8.1.7)\n",
      "Collecting openai-agents\n",
      "  Using cached openai_agents-0.2.4-py3-none-any.whl.metadata (11 kB)\n",
      "Requirement already satisfied: openai in /opt/anaconda3/envs/genai-env/lib/python3.10/site-packages (1.98.0)\n",
      "Requirement already satisfied: python-dotenv in /opt/anaconda3/envs/genai-env/lib/python3.10/site-packages (1.1.1)\n",
      "Requirement already satisfied: youtube-transcript-api in /opt/anaconda3/envs/genai-env/lib/python3.10/site-packages (1.2.1)\n",
      "Requirement already satisfied: textstat in /opt/anaconda3/envs/genai-env/lib/python3.10/site-packages (0.7.8)\n",
      "Requirement already satisfied: async-lru>=1.0.0 in /opt/anaconda3/envs/genai-env/lib/python3.10/site-packages (from jupyterlab) (2.0.5)\n",
      "Requirement already satisfied: httpx>=0.25.0 in /opt/anaconda3/envs/genai-env/lib/python3.10/site-packages (from jupyterlab) (0.28.1)\n",
      "Requirement already satisfied: jinja2>=3.0.3 in /opt/anaconda3/envs/genai-env/lib/python3.10/site-packages (from jupyterlab) (3.1.6)\n",
      "Requirement already satisfied: jupyter-core in /opt/anaconda3/envs/genai-env/lib/python3.10/site-packages (from jupyterlab) (5.8.1)\n",
      "Requirement already satisfied: jupyter-lsp>=2.0.0 in /opt/anaconda3/envs/genai-env/lib/python3.10/site-packages (from jupyterlab) (2.2.6)\n",
      "Requirement already satisfied: jupyter-server<3,>=2.4.0 in /opt/anaconda3/envs/genai-env/lib/python3.10/site-packages (from jupyterlab) (2.16.0)\n",
      "Requirement already satisfied: jupyterlab-server<3,>=2.27.1 in /opt/anaconda3/envs/genai-env/lib/python3.10/site-packages (from jupyterlab) (2.27.3)\n",
      "Requirement already satisfied: notebook-shim>=0.2 in /opt/anaconda3/envs/genai-env/lib/python3.10/site-packages (from jupyterlab) (0.2.4)\n",
      "Requirement already satisfied: packaging in /opt/anaconda3/envs/genai-env/lib/python3.10/site-packages (from jupyterlab) (25.0)\n",
      "Requirement already satisfied: setuptools>=41.1.0 in /opt/anaconda3/envs/genai-env/lib/python3.10/site-packages (from jupyterlab) (78.1.1)\n",
      "Requirement already satisfied: tomli>=1.2.2 in /opt/anaconda3/envs/genai-env/lib/python3.10/site-packages (from jupyterlab) (2.2.1)\n",
      "Requirement already satisfied: tornado>=6.2.0 in /opt/anaconda3/envs/genai-env/lib/python3.10/site-packages (from jupyterlab) (6.5.1)\n",
      "Requirement already satisfied: traitlets in /opt/anaconda3/envs/genai-env/lib/python3.10/site-packages (from jupyterlab) (5.14.3)\n",
      "Requirement already satisfied: anyio>=3.1.0 in /opt/anaconda3/envs/genai-env/lib/python3.10/site-packages (from jupyter-server<3,>=2.4.0->jupyterlab) (4.9.0)\n",
      "Requirement already satisfied: argon2-cffi>=21.1 in /opt/anaconda3/envs/genai-env/lib/python3.10/site-packages (from jupyter-server<3,>=2.4.0->jupyterlab) (25.1.0)\n",
      "Requirement already satisfied: jupyter-client>=7.4.4 in /opt/anaconda3/envs/genai-env/lib/python3.10/site-packages (from jupyter-server<3,>=2.4.0->jupyterlab) (8.6.3)\n",
      "Requirement already satisfied: jupyter-events>=0.11.0 in /opt/anaconda3/envs/genai-env/lib/python3.10/site-packages (from jupyter-server<3,>=2.4.0->jupyterlab) (0.12.0)\n",
      "Requirement already satisfied: jupyter-server-terminals>=0.4.4 in /opt/anaconda3/envs/genai-env/lib/python3.10/site-packages (from jupyter-server<3,>=2.4.0->jupyterlab) (0.5.3)\n",
      "Requirement already satisfied: nbconvert>=6.4.4 in /opt/anaconda3/envs/genai-env/lib/python3.10/site-packages (from jupyter-server<3,>=2.4.0->jupyterlab) (7.16.6)\n",
      "Requirement already satisfied: nbformat>=5.3.0 in /opt/anaconda3/envs/genai-env/lib/python3.10/site-packages (from jupyter-server<3,>=2.4.0->jupyterlab) (5.10.4)\n",
      "Requirement already satisfied: overrides>=5.0 in /opt/anaconda3/envs/genai-env/lib/python3.10/site-packages (from jupyter-server<3,>=2.4.0->jupyterlab) (7.7.0)\n",
      "Requirement already satisfied: prometheus-client>=0.9 in /opt/anaconda3/envs/genai-env/lib/python3.10/site-packages (from jupyter-server<3,>=2.4.0->jupyterlab) (0.22.1)\n",
      "Requirement already satisfied: pyzmq>=24 in /opt/anaconda3/envs/genai-env/lib/python3.10/site-packages (from jupyter-server<3,>=2.4.0->jupyterlab) (27.0.0)\n",
      "Requirement already satisfied: send2trash>=1.8.2 in /opt/anaconda3/envs/genai-env/lib/python3.10/site-packages (from jupyter-server<3,>=2.4.0->jupyterlab) (1.8.3)\n",
      "Requirement already satisfied: terminado>=0.8.3 in /opt/anaconda3/envs/genai-env/lib/python3.10/site-packages (from jupyter-server<3,>=2.4.0->jupyterlab) (0.18.1)\n",
      "Requirement already satisfied: websocket-client>=1.7 in /opt/anaconda3/envs/genai-env/lib/python3.10/site-packages (from jupyter-server<3,>=2.4.0->jupyterlab) (1.8.0)\n",
      "Requirement already satisfied: babel>=2.10 in /opt/anaconda3/envs/genai-env/lib/python3.10/site-packages (from jupyterlab-server<3,>=2.27.1->jupyterlab) (2.17.0)\n",
      "Requirement already satisfied: json5>=0.9.0 in /opt/anaconda3/envs/genai-env/lib/python3.10/site-packages (from jupyterlab-server<3,>=2.27.1->jupyterlab) (0.12.0)\n",
      "Requirement already satisfied: jsonschema>=4.18.0 in /opt/anaconda3/envs/genai-env/lib/python3.10/site-packages (from jupyterlab-server<3,>=2.27.1->jupyterlab) (4.25.0)\n",
      "Requirement already satisfied: requests>=2.31 in /opt/anaconda3/envs/genai-env/lib/python3.10/site-packages (from jupyterlab-server<3,>=2.27.1->jupyterlab) (2.32.4)\n",
      "Requirement already satisfied: appnope>=0.1.2 in /opt/anaconda3/envs/genai-env/lib/python3.10/site-packages (from ipykernel) (0.1.4)\n",
      "Requirement already satisfied: comm>=0.1.1 in /opt/anaconda3/envs/genai-env/lib/python3.10/site-packages (from ipykernel) (0.2.3)\n",
      "Requirement already satisfied: debugpy>=1.6.5 in /opt/anaconda3/envs/genai-env/lib/python3.10/site-packages (from ipykernel) (1.8.15)\n",
      "Requirement already satisfied: ipython>=7.23.1 in /opt/anaconda3/envs/genai-env/lib/python3.10/site-packages (from ipykernel) (8.37.0)\n",
      "Requirement already satisfied: matplotlib-inline>=0.1 in /opt/anaconda3/envs/genai-env/lib/python3.10/site-packages (from ipykernel) (0.1.7)\n",
      "Requirement already satisfied: nest-asyncio>=1.4 in /opt/anaconda3/envs/genai-env/lib/python3.10/site-packages (from ipykernel) (1.6.0)\n",
      "Requirement already satisfied: psutil>=5.7 in /opt/anaconda3/envs/genai-env/lib/python3.10/site-packages (from ipykernel) (7.0.0)\n",
      "Requirement already satisfied: widgetsnbextension~=4.0.14 in /opt/anaconda3/envs/genai-env/lib/python3.10/site-packages (from ipywidgets) (4.0.14)\n",
      "Requirement already satisfied: jupyterlab_widgets~=3.0.15 in /opt/anaconda3/envs/genai-env/lib/python3.10/site-packages (from ipywidgets) (3.0.15)\n",
      "Requirement already satisfied: griffe<2,>=1.5.6 in /opt/anaconda3/envs/genai-env/lib/python3.10/site-packages (from openai-agents) (1.9.0)\n",
      "Requirement already satisfied: mcp<2,>=1.11.0 in /opt/anaconda3/envs/genai-env/lib/python3.10/site-packages (from openai-agents) (1.12.3)\n",
      "Requirement already satisfied: pydantic<3,>=2.10 in /opt/anaconda3/envs/genai-env/lib/python3.10/site-packages (from openai-agents) (2.11.7)\n",
      "Requirement already satisfied: types-requests<3,>=2.0 in /opt/anaconda3/envs/genai-env/lib/python3.10/site-packages (from openai-agents) (2.32.4.20250611)\n",
      "Requirement already satisfied: typing-extensions<5,>=4.12.2 in /opt/anaconda3/envs/genai-env/lib/python3.10/site-packages (from openai-agents) (4.12.2)\n",
      "Requirement already satisfied: distro<2,>=1.7.0 in /opt/anaconda3/envs/genai-env/lib/python3.10/site-packages (from openai) (1.9.0)\n",
      "Requirement already satisfied: jiter<1,>=0.4.0 in /opt/anaconda3/envs/genai-env/lib/python3.10/site-packages (from openai) (0.10.0)\n",
      "Requirement already satisfied: sniffio in /opt/anaconda3/envs/genai-env/lib/python3.10/site-packages (from openai) (1.3.1)\n",
      "Requirement already satisfied: tqdm>4 in /opt/anaconda3/envs/genai-env/lib/python3.10/site-packages (from openai) (4.67.1)\n",
      "Requirement already satisfied: exceptiongroup>=1.0.2 in /opt/anaconda3/envs/genai-env/lib/python3.10/site-packages (from anyio>=3.1.0->jupyter-server<3,>=2.4.0->jupyterlab) (1.3.0)\n",
      "Requirement already satisfied: idna>=2.8 in /opt/anaconda3/envs/genai-env/lib/python3.10/site-packages (from anyio>=3.1.0->jupyter-server<3,>=2.4.0->jupyterlab) (3.10)\n",
      "Requirement already satisfied: colorama>=0.4 in /opt/anaconda3/envs/genai-env/lib/python3.10/site-packages (from griffe<2,>=1.5.6->openai-agents) (0.4.6)\n",
      "Requirement already satisfied: certifi in /opt/anaconda3/envs/genai-env/lib/python3.10/site-packages (from httpx>=0.25.0->jupyterlab) (2025.7.14)\n",
      "Requirement already satisfied: httpcore==1.* in /opt/anaconda3/envs/genai-env/lib/python3.10/site-packages (from httpx>=0.25.0->jupyterlab) (1.0.9)\n",
      "Requirement already satisfied: h11>=0.16 in /opt/anaconda3/envs/genai-env/lib/python3.10/site-packages (from httpcore==1.*->httpx>=0.25.0->jupyterlab) (0.16.0)\n",
      "Requirement already satisfied: httpx-sse>=0.4 in /opt/anaconda3/envs/genai-env/lib/python3.10/site-packages (from mcp<2,>=1.11.0->openai-agents) (0.4.1)\n",
      "Requirement already satisfied: pydantic-settings>=2.5.2 in /opt/anaconda3/envs/genai-env/lib/python3.10/site-packages (from mcp<2,>=1.11.0->openai-agents) (2.10.1)\n",
      "Requirement already satisfied: python-multipart>=0.0.9 in /opt/anaconda3/envs/genai-env/lib/python3.10/site-packages (from mcp<2,>=1.11.0->openai-agents) (0.0.20)\n",
      "Requirement already satisfied: sse-starlette>=1.6.1 in /opt/anaconda3/envs/genai-env/lib/python3.10/site-packages (from mcp<2,>=1.11.0->openai-agents) (3.0.2)\n",
      "Requirement already satisfied: starlette>=0.27 in /opt/anaconda3/envs/genai-env/lib/python3.10/site-packages (from mcp<2,>=1.11.0->openai-agents) (0.47.2)\n",
      "Requirement already satisfied: uvicorn>=0.23.1 in /opt/anaconda3/envs/genai-env/lib/python3.10/site-packages (from mcp<2,>=1.11.0->openai-agents) (0.35.0)\n",
      "Requirement already satisfied: annotated-types>=0.6.0 in /opt/anaconda3/envs/genai-env/lib/python3.10/site-packages (from pydantic<3,>=2.10->openai-agents) (0.7.0)\n",
      "Requirement already satisfied: pydantic-core==2.33.2 in /opt/anaconda3/envs/genai-env/lib/python3.10/site-packages (from pydantic<3,>=2.10->openai-agents) (2.33.2)\n",
      "Requirement already satisfied: typing-inspection>=0.4.0 in /opt/anaconda3/envs/genai-env/lib/python3.10/site-packages (from pydantic<3,>=2.10->openai-agents) (0.4.1)\n",
      "Requirement already satisfied: charset_normalizer<4,>=2 in /opt/anaconda3/envs/genai-env/lib/python3.10/site-packages (from requests>=2.31->jupyterlab-server<3,>=2.27.1->jupyterlab) (3.4.2)\n",
      "Requirement already satisfied: urllib3<3,>=1.21.1 in /opt/anaconda3/envs/genai-env/lib/python3.10/site-packages (from requests>=2.31->jupyterlab-server<3,>=2.27.1->jupyterlab) (2.5.0)\n",
      "Requirement already satisfied: defusedxml<0.8.0,>=0.7.1 in /opt/anaconda3/envs/genai-env/lib/python3.10/site-packages (from youtube-transcript-api) (0.7.1)\n",
      "Requirement already satisfied: pyphen in /opt/anaconda3/envs/genai-env/lib/python3.10/site-packages (from textstat) (0.17.2)\n",
      "Requirement already satisfied: cmudict in /opt/anaconda3/envs/genai-env/lib/python3.10/site-packages (from textstat) (1.1.1)\n",
      "Requirement already satisfied: argon2-cffi-bindings in /opt/anaconda3/envs/genai-env/lib/python3.10/site-packages (from argon2-cffi>=21.1->jupyter-server<3,>=2.4.0->jupyterlab) (25.1.0)\n",
      "Requirement already satisfied: decorator in /opt/anaconda3/envs/genai-env/lib/python3.10/site-packages (from ipython>=7.23.1->ipykernel) (5.2.1)\n",
      "Requirement already satisfied: jedi>=0.16 in /opt/anaconda3/envs/genai-env/lib/python3.10/site-packages (from ipython>=7.23.1->ipykernel) (0.19.2)\n",
      "Requirement already satisfied: pexpect>4.3 in /opt/anaconda3/envs/genai-env/lib/python3.10/site-packages (from ipython>=7.23.1->ipykernel) (4.9.0)\n",
      "Requirement already satisfied: prompt_toolkit<3.1.0,>=3.0.41 in /opt/anaconda3/envs/genai-env/lib/python3.10/site-packages (from ipython>=7.23.1->ipykernel) (3.0.51)\n",
      "Requirement already satisfied: pygments>=2.4.0 in /opt/anaconda3/envs/genai-env/lib/python3.10/site-packages (from ipython>=7.23.1->ipykernel) (2.19.2)\n",
      "Requirement already satisfied: stack_data in /opt/anaconda3/envs/genai-env/lib/python3.10/site-packages (from ipython>=7.23.1->ipykernel) (0.6.3)\n",
      "Requirement already satisfied: wcwidth in /opt/anaconda3/envs/genai-env/lib/python3.10/site-packages (from prompt_toolkit<3.1.0,>=3.0.41->ipython>=7.23.1->ipykernel) (0.2.13)\n",
      "Requirement already satisfied: parso<0.9.0,>=0.8.4 in /opt/anaconda3/envs/genai-env/lib/python3.10/site-packages (from jedi>=0.16->ipython>=7.23.1->ipykernel) (0.8.4)\n",
      "Requirement already satisfied: MarkupSafe>=2.0 in /opt/anaconda3/envs/genai-env/lib/python3.10/site-packages (from jinja2>=3.0.3->jupyterlab) (3.0.2)\n",
      "Requirement already satisfied: attrs>=22.2.0 in /opt/anaconda3/envs/genai-env/lib/python3.10/site-packages (from jsonschema>=4.18.0->jupyterlab-server<3,>=2.27.1->jupyterlab) (25.3.0)\n",
      "Requirement already satisfied: jsonschema-specifications>=2023.03.6 in /opt/anaconda3/envs/genai-env/lib/python3.10/site-packages (from jsonschema>=4.18.0->jupyterlab-server<3,>=2.27.1->jupyterlab) (2025.4.1)\n",
      "Requirement already satisfied: referencing>=0.28.4 in /opt/anaconda3/envs/genai-env/lib/python3.10/site-packages (from jsonschema>=4.18.0->jupyterlab-server<3,>=2.27.1->jupyterlab) (0.36.2)\n",
      "Requirement already satisfied: rpds-py>=0.7.1 in /opt/anaconda3/envs/genai-env/lib/python3.10/site-packages (from jsonschema>=4.18.0->jupyterlab-server<3,>=2.27.1->jupyterlab) (0.26.0)\n",
      "Requirement already satisfied: python-dateutil>=2.8.2 in /opt/anaconda3/envs/genai-env/lib/python3.10/site-packages (from jupyter-client>=7.4.4->jupyter-server<3,>=2.4.0->jupyterlab) (2.9.0.post0)\n",
      "Requirement already satisfied: platformdirs>=2.5 in /opt/anaconda3/envs/genai-env/lib/python3.10/site-packages (from jupyter-core->jupyterlab) (4.3.8)\n",
      "Requirement already satisfied: python-json-logger>=2.0.4 in /opt/anaconda3/envs/genai-env/lib/python3.10/site-packages (from jupyter-events>=0.11.0->jupyter-server<3,>=2.4.0->jupyterlab) (3.3.0)\n",
      "Requirement already satisfied: pyyaml>=5.3 in /opt/anaconda3/envs/genai-env/lib/python3.10/site-packages (from jupyter-events>=0.11.0->jupyter-server<3,>=2.4.0->jupyterlab) (6.0.2)\n",
      "Requirement already satisfied: rfc3339-validator in /opt/anaconda3/envs/genai-env/lib/python3.10/site-packages (from jupyter-events>=0.11.0->jupyter-server<3,>=2.4.0->jupyterlab) (0.1.4)\n",
      "Requirement already satisfied: rfc3986-validator>=0.1.1 in /opt/anaconda3/envs/genai-env/lib/python3.10/site-packages (from jupyter-events>=0.11.0->jupyter-server<3,>=2.4.0->jupyterlab) (0.1.1)\n",
      "Requirement already satisfied: fqdn in /opt/anaconda3/envs/genai-env/lib/python3.10/site-packages (from jsonschema[format-nongpl]>=4.18.0->jupyter-events>=0.11.0->jupyter-server<3,>=2.4.0->jupyterlab) (1.5.1)\n",
      "Requirement already satisfied: isoduration in /opt/anaconda3/envs/genai-env/lib/python3.10/site-packages (from jsonschema[format-nongpl]>=4.18.0->jupyter-events>=0.11.0->jupyter-server<3,>=2.4.0->jupyterlab) (20.11.0)\n",
      "Requirement already satisfied: jsonpointer>1.13 in /opt/anaconda3/envs/genai-env/lib/python3.10/site-packages (from jsonschema[format-nongpl]>=4.18.0->jupyter-events>=0.11.0->jupyter-server<3,>=2.4.0->jupyterlab) (3.0.0)\n",
      "Requirement already satisfied: rfc3987-syntax>=1.1.0 in /opt/anaconda3/envs/genai-env/lib/python3.10/site-packages (from jsonschema[format-nongpl]>=4.18.0->jupyter-events>=0.11.0->jupyter-server<3,>=2.4.0->jupyterlab) (1.1.0)\n",
      "Requirement already satisfied: uri-template in /opt/anaconda3/envs/genai-env/lib/python3.10/site-packages (from jsonschema[format-nongpl]>=4.18.0->jupyter-events>=0.11.0->jupyter-server<3,>=2.4.0->jupyterlab) (1.3.0)\n",
      "Requirement already satisfied: webcolors>=24.6.0 in /opt/anaconda3/envs/genai-env/lib/python3.10/site-packages (from jsonschema[format-nongpl]>=4.18.0->jupyter-events>=0.11.0->jupyter-server<3,>=2.4.0->jupyterlab) (24.11.1)\n",
      "Requirement already satisfied: beautifulsoup4 in /opt/anaconda3/envs/genai-env/lib/python3.10/site-packages (from nbconvert>=6.4.4->jupyter-server<3,>=2.4.0->jupyterlab) (4.13.4)\n",
      "Requirement already satisfied: bleach!=5.0.0 in /opt/anaconda3/envs/genai-env/lib/python3.10/site-packages (from bleach[css]!=5.0.0->nbconvert>=6.4.4->jupyter-server<3,>=2.4.0->jupyterlab) (6.2.0)\n",
      "Requirement already satisfied: jupyterlab-pygments in /opt/anaconda3/envs/genai-env/lib/python3.10/site-packages (from nbconvert>=6.4.4->jupyter-server<3,>=2.4.0->jupyterlab) (0.3.0)\n",
      "Requirement already satisfied: mistune<4,>=2.0.3 in /opt/anaconda3/envs/genai-env/lib/python3.10/site-packages (from nbconvert>=6.4.4->jupyter-server<3,>=2.4.0->jupyterlab) (3.1.3)\n",
      "Requirement already satisfied: nbclient>=0.5.0 in /opt/anaconda3/envs/genai-env/lib/python3.10/site-packages (from nbconvert>=6.4.4->jupyter-server<3,>=2.4.0->jupyterlab) (0.10.2)\n",
      "Requirement already satisfied: pandocfilters>=1.4.1 in /opt/anaconda3/envs/genai-env/lib/python3.10/site-packages (from nbconvert>=6.4.4->jupyter-server<3,>=2.4.0->jupyterlab) (1.5.1)\n",
      "Requirement already satisfied: webencodings in /opt/anaconda3/envs/genai-env/lib/python3.10/site-packages (from bleach!=5.0.0->bleach[css]!=5.0.0->nbconvert>=6.4.4->jupyter-server<3,>=2.4.0->jupyterlab) (0.5.1)\n",
      "Requirement already satisfied: tinycss2<1.5,>=1.1.0 in /opt/anaconda3/envs/genai-env/lib/python3.10/site-packages (from bleach[css]!=5.0.0->nbconvert>=6.4.4->jupyter-server<3,>=2.4.0->jupyterlab) (1.4.0)\n",
      "Requirement already satisfied: fastjsonschema>=2.15 in /opt/anaconda3/envs/genai-env/lib/python3.10/site-packages (from nbformat>=5.3.0->jupyter-server<3,>=2.4.0->jupyterlab) (2.21.1)\n",
      "Requirement already satisfied: ptyprocess>=0.5 in /opt/anaconda3/envs/genai-env/lib/python3.10/site-packages (from pexpect>4.3->ipython>=7.23.1->ipykernel) (0.7.0)\n",
      "Requirement already satisfied: six>=1.5 in /opt/anaconda3/envs/genai-env/lib/python3.10/site-packages (from python-dateutil>=2.8.2->jupyter-client>=7.4.4->jupyter-server<3,>=2.4.0->jupyterlab) (1.17.0)\n",
      "Requirement already satisfied: lark>=1.2.2 in /opt/anaconda3/envs/genai-env/lib/python3.10/site-packages (from rfc3987-syntax>=1.1.0->jsonschema[format-nongpl]>=4.18.0->jupyter-events>=0.11.0->jupyter-server<3,>=2.4.0->jupyterlab) (1.2.2)\n",
      "Requirement already satisfied: click>=7.0 in /opt/anaconda3/envs/genai-env/lib/python3.10/site-packages (from uvicorn>=0.23.1->mcp<2,>=1.11.0->openai-agents) (8.2.1)\n",
      "Requirement already satisfied: cffi>=1.0.1 in /opt/anaconda3/envs/genai-env/lib/python3.10/site-packages (from argon2-cffi-bindings->argon2-cffi>=21.1->jupyter-server<3,>=2.4.0->jupyterlab) (1.17.1)\n",
      "Requirement already satisfied: pycparser in /opt/anaconda3/envs/genai-env/lib/python3.10/site-packages (from cffi>=1.0.1->argon2-cffi-bindings->argon2-cffi>=21.1->jupyter-server<3,>=2.4.0->jupyterlab) (2.22)\n",
      "Requirement already satisfied: soupsieve>1.2 in /opt/anaconda3/envs/genai-env/lib/python3.10/site-packages (from beautifulsoup4->nbconvert>=6.4.4->jupyter-server<3,>=2.4.0->jupyterlab) (2.7)\n",
      "Requirement already satisfied: importlib-metadata>=5 in /opt/anaconda3/envs/genai-env/lib/python3.10/site-packages (from cmudict->textstat) (8.7.0)\n",
      "Requirement already satisfied: importlib-resources>=5 in /opt/anaconda3/envs/genai-env/lib/python3.10/site-packages (from cmudict->textstat) (6.5.2)\n",
      "Requirement already satisfied: zipp>=3.20 in /opt/anaconda3/envs/genai-env/lib/python3.10/site-packages (from importlib-metadata>=5->cmudict->textstat) (3.23.0)\n",
      "Requirement already satisfied: arrow>=0.15.0 in /opt/anaconda3/envs/genai-env/lib/python3.10/site-packages (from isoduration->jsonschema[format-nongpl]>=4.18.0->jupyter-events>=0.11.0->jupyter-server<3,>=2.4.0->jupyterlab) (1.3.0)\n",
      "Requirement already satisfied: types-python-dateutil>=2.8.10 in /opt/anaconda3/envs/genai-env/lib/python3.10/site-packages (from arrow>=0.15.0->isoduration->jsonschema[format-nongpl]>=4.18.0->jupyter-events>=0.11.0->jupyter-server<3,>=2.4.0->jupyterlab) (2.9.0.20250708)\n",
      "Requirement already satisfied: executing>=1.2.0 in /opt/anaconda3/envs/genai-env/lib/python3.10/site-packages (from stack_data->ipython>=7.23.1->ipykernel) (2.2.0)\n",
      "Requirement already satisfied: asttokens>=2.1.0 in /opt/anaconda3/envs/genai-env/lib/python3.10/site-packages (from stack_data->ipython>=7.23.1->ipykernel) (3.0.0)\n",
      "Requirement already satisfied: pure-eval in /opt/anaconda3/envs/genai-env/lib/python3.10/site-packages (from stack_data->ipython>=7.23.1->ipykernel) (0.2.3)\n",
      "Using cached openai_agents-0.2.4-py3-none-any.whl (164 kB)\n",
      "Installing collected packages: openai-agents\n",
      "Successfully installed openai-agents-0.2.4\n",
      "Note: you may need to restart the kernel to use updated packages.\n"
     ]
    }
   ],
   "source": [
    "!pip install jupyterlab ipykernel ipywidgets openai-agents openai python-dotenv youtube-transcript-api textstat"
   ]
  },
  {
   "cell_type": "markdown",
   "id": "e23470da-9b3e-44a8-b18a-4ccc8f5ba32a",
   "metadata": {},
   "source": [
    "###  Chargement des bibliothèques essentielles\n",
    "\n",
    "Dans cette section, nous importons toutes les bibliothèques nécessaires au bon fonctionnement de notre agent intelligent :\n",
    "\n",
    "- `re` : pour manipuler les expressions régulières (extraction de l'ID vidéo YouTube)\n",
    "- `asyncio` : pour exécuter l'application de manière asynchrone, sans blocage\n",
    "- `dotenv` : pour charger automatiquement la clé API OpenAI depuis un fichier `.env` sécurisé\n",
    "- `youtube_transcript_api` : pour récupérer les sous-titres (transcription) des vidéos YouTube\n",
    "- `youtube_transcript_api._errors` : pour gérer proprement les erreurs spécifiques à YouTube (ex : vidéo privée, transcription absente, etc.)\n",
    "- `agents` : module local définissant la structure de l’agent, les outils utilisables, et l’exécution des dialogues\n",
    "- `openai.types.responses` : pour gérer les réponses `streamées` du modèle (affichage en temps réel mot par mot)\n",
    "\n",
    "\n"
   ]
  },
  {
   "cell_type": "code",
   "execution_count": 50,
   "id": "e7514679-c195-4bf9-bad3-0f7a26a0d3d2",
   "metadata": {},
   "outputs": [],
   "source": [
    "import re                                # Utilisé pour extraire l'ID de la vidéo à partir de l'URL via expressions régulières\n",
    "import asyncio                           # Permet la gestion asynchrone du dialogue avec l'utilisateur\n",
    "from dotenv import load_dotenv           # Charge les variables d'environnement depuis un fichier .env (clé API OpenAI)\n",
    "\n",
    "from youtube_transcript_api import YouTubeTranscriptApi              # Fournit l'accès aux transcriptions des vidéos YouTube\n",
    "from youtube_transcript_api._errors import (                         # Importe les erreurs spécifiques liées aux vidéos\n",
    "    NoTranscriptFound,              # Levée si aucune transcription n'est disponible\n",
    "    TranscriptsDisabled,           # Levée si l’auteur de la vidéo a désactivé les transcriptions\n",
    "    VideoUnavailable,              # Levée si la vidéo est privée ou supprimée\n",
    "    CouldNotRetrieveTranscript     # Levée en cas d’échec général de récupération de la transcription\n",
    ")\n",
    "\n",
    "from agents import Agent, function_tool, Runner                      # Permet de définir l’agent, l’outil utilisé et l’exécution de l’agent\n",
    "from openai.types.responses import ResponseTextDeltaEvent            # Gère les réponses reçues de manière progressive (streaming)\n"
   ]
  },
  {
   "cell_type": "code",
   "execution_count": 51,
   "id": "b8a67ebc-ae9f-4857-bcd9-88b7b5341df5",
   "metadata": {},
   "outputs": [],
   "source": [
    "import logging                                                   # Permet de configurer les niveaux de journalisation du programme\n",
    "logging.getLogger(\"httpx\").setLevel(logging.WARNING)             # Réduit les messages de log HTTPX à WARNING uniquement (supprime les logs INFO)\n"
   ]
  },
  {
   "cell_type": "code",
   "execution_count": 52,
   "id": "535570e0-af0d-4208-afe9-caa31c397d2c",
   "metadata": {},
   "outputs": [
    {
     "name": "stdout",
     "output_type": "stream",
     "text": [
      "Clé API chargée : sk-proj-...\n"
     ]
    }
   ],
   "source": [
    "from dotenv import load_dotenv                              # Importe la fonction pour charger les variables d’environnement depuis un fichier .env\n",
    "import os                                                   # Permet d’accéder aux variables d’environnement via os.getenv()\n",
    "\n",
    "load_dotenv(dotenv_path=\".env\", override=True)              # Charge explicitement le fichier .env et écrase les variables existantes si nécessaire\n",
    "\n",
    "api_key = os.getenv(\"OPENAI_API_KEY\")                       # Récupère la clé API OpenAI depuis l’environnement\n",
    "print(\"Clé API chargée :\", api_key[:8] + \"...\" if api_key else \"Aucune clé détectée\")  # Affiche un extrait de la clé ou un message d’erreur\n"
   ]
  },
  {
   "cell_type": "markdown",
   "id": "8cb81b6f-aa66-425c-b1a9-d099f0c82c45",
   "metadata": {},
   "source": [
    "### Récupération et formatage de la transcription\n",
    "\n",
    "Cette fonction permet d’extraire automatiquement la transcription d’une vidéo YouTube à partir de son URL.  \n",
    "Elle identifie l’ID de la vidéo, interroge l’API via la méthode `.fetch()` et formate le texte avec des horodatages `[MM:SS]`.  \n",
    "Elle prend également en compte les cas d’erreur courants (vidéo privée, transcription désactivée, etc.).  \n",
    "Grâce au décorateur `@function_tool`, elle est intégrée comme outil accessible à l’agent conversationnel.\n"
   ]
  },
  {
   "cell_type": "code",
   "execution_count": 66,
   "id": "d186d1d6-2950-4cec-8bda-d44321dbbf0c",
   "metadata": {},
   "outputs": [
    {
     "name": "stdout",
     "output_type": "stream",
     "text": [
      "The history saving thread hit an unexpected error (OperationalError('attempt to write a readonly database')).History will not be written to the database.\n"
     ]
    }
   ],
   "source": [
    "@function_tool                             # Rend cette fonction accessible à l'agent comme un outil externe\n",
    "def fetch_youtube_transcript(url: str) -> str:\n",
    "    \"\"\"\n",
    "    Récupère et formate la transcription d'une vidéo YouTube à partir de son URL.\n",
    "    \"\"\"\n",
    "\n",
    "    video_id_pattern = r'(?:v=|\\/)([0-9A-Za-z_-]{11}).*'         # Expression régulière pour extraire l'ID de la vidéo YouTube\n",
    "    match = re.search(video_id_pattern, url)                    # Recherche d'une correspondance dans l'URL\n",
    "\n",
    "    if not match:\n",
    "        return \"URL YouTube invalide.\"                          # Si aucun ID trouvé, on retourne une erreur explicite\n",
    "\n",
    "    video_id = match.group(1)                                   # Récupération de l'ID extrait\n",
    "\n",
    "    try:\n",
    "        transcript = YouTubeTranscriptApi().fetch(video_id)     # Appel à l’API pour récupérer la transcription\n",
    "\n",
    "        formatted_entries = []                                  # Liste pour stocker les segments formatés\n",
    "\n",
    "        for entry in transcript:                                # Parcours de chaque segment de transcription\n",
    "            minutes = int(entry.start // 60)                    # Conversion du temps de début en minutes\n",
    "            seconds = int(entry.start % 60)                     # Conversion du reste en secondes\n",
    "            timestamp = f\"[{minutes:02d}:{seconds:02d}]\"        # Formatage du timestamp [MM:SS]\n",
    "            text = entry.text                                   # Récupération du texte associé au segment\n",
    "            formatted_entries.append(f\"{timestamp} {text}\")     # Ajout de la ligne formatée à la liste\n",
    "\n",
    "        return \"\\n\".join(formatted_entries)                     # Retour du texte complet avec un saut de ligne par segment\n",
    "\n",
    "    # Gestion des différents types d’erreurs spécifiques à l’API\n",
    "    except TranscriptsDisabled:\n",
    "        return \"Les transcriptions sont désactivées pour cette vidéo.\"\n",
    "\n",
    "    except NoTranscriptFound:\n",
    "        return \"Aucune transcription disponible pour cette vidéo.\"\n",
    "\n",
    "    except VideoUnavailable:\n",
    "        return \"La vidéo est privée, supprimée ou non accessible.\"\n",
    "\n",
    "    except CouldNotRetrieveTranscript:\n",
    "        return \"Impossible de récupérer la transcription pour le moment.\"\n",
    "\n",
    "    except Exception as e:\n",
    "        return f\"Erreur inattendue : {str(e)}\"                  # Gestion d'une erreur générique pour les cas non anticipés\n"
   ]
  },
  {
   "cell_type": "code",
   "execution_count": 41,
   "id": "646bae0b-397f-4d52-b0f0-af4ccf4a627f",
   "metadata": {},
   "outputs": [],
   "source": [
    "### define instructions"
   ]
  },
  {
   "cell_type": "code",
   "execution_count": 41,
   "id": "4c9085aa-2100-4646-9985-d5c50eeea931",
   "metadata": {},
   "outputs": [],
   "source": [
    "### define instructions"
   ]
  },
  {
   "cell_type": "code",
   "execution_count": 41,
   "id": "5fa6036e-f394-4675-9680-bb10672e68e9",
   "metadata": {},
   "outputs": [],
   "source": [
    "### define instructions"
   ]
  },
  {
   "cell_type": "code",
   "execution_count": 63,
   "id": "da4e0269-efb4-4812-b37b-6db5e466565d",
   "metadata": {},
   "outputs": [],
   "source": [
    "\n",
    "# 🧠 Instructions de l'agent\n",
    "instructions = (\n",
    "    \"Tu es un assistant spécialisé dans l'analyse de vidéos YouTube. \"\n",
    "    \"Quand l'utilisateur donne une URL, commence par récupérer la transcription à l'aide de l'outil fourni.\"\n",
    ")"
   ]
  },
  {
   "cell_type": "code",
   "execution_count": 64,
   "id": "e60d8baf-5a81-414f-9d0b-1bfc618ce399",
   "metadata": {},
   "outputs": [],
   "source": [
    "agent = Agent(\n",
    "    name=\"YouTube Transcript Agent\",\n",
    "    instructions=instructions,\n",
    "    tools=[fetch_youtube_transcript],\n",
    "    model=\"gpt-4o\"  # ✅ Utilisation explicite du modèle GPT-4o\n",
    ")"
   ]
  },
  {
   "cell_type": "code",
   "execution_count": 65,
   "id": "67a6a96b-5bd0-4c08-9237-5990b006c85b",
   "metadata": {},
   "outputs": [
    {
     "name": "stdout",
     "output_type": "stream",
     "text": [
      "=== YouTube Transcript Agent ===\n",
      "Tapez 'exit' pour quitter.\n",
      "Posez une question ou fournissez une URL YouTube.\n"
     ]
    },
    {
     "name": "stdin",
     "output_type": "stream",
     "text": [
      "\n",
      "You:  https://www.youtube.com/watch?v=1js3tX7Pw7c&t=824s\n"
     ]
    },
    {
     "name": "stdout",
     "output_type": "stream",
     "text": [
      "\n",
      "Agent: \n",
      "-- 📥 Récupération de la transcription...\n",
      "-- ⛔ ⚠️ Aucune transcription disponible pour cette vidéo.\n",
      "Je n'ai pas pu récupérer la transcription de cette vidéo. Si tu as une autre vidéo ou besoin d'aide supplémentaire, n'hésite pas à me le dire !\n",
      "\n"
     ]
    },
    {
     "name": "stdin",
     "output_type": "stream",
     "text": [
      "\n",
      "You:  https://www.youtube.com/watch?v=1NLoTuRR3hE\n"
     ]
    },
    {
     "name": "stdout",
     "output_type": "stream",
     "text": [
      "\n",
      "Agent: \n",
      "-- 📥 Récupération de la transcription...\n",
      "-- ✅ Transcription récupérée.\n",
      "La vidéo traite de divers sujets politiques et personnels, notamment Gavin Newsom discutant de ses expériences en tant que gouverneur de Californie, ses opinions sur Donald Trump et ses propres ambitions politiques futures. Le dialogue explore des thèmes comme la masculinité, les défis économiques et le rôle de l'entrepreneuriat. Newsom partage également des anecdotes personnelles, notamment sur sa famille et ses luttes personnelles. Il aborde la nécessité d'un engagement politique authentique et les récents événements politiques aux États-Unis.\n",
      "\n"
     ]
    },
    {
     "name": "stdin",
     "output_type": "stream",
     "text": [
      "\n",
      "You:  peux tu me faire un résumé de cette vidéo le contexte, les objectifs les points clés avantages et inconvénients?\n"
     ]
    },
    {
     "name": "stdout",
     "output_type": "stream",
     "text": [
      "\n",
      "Agent: Bien sûr, voici un résumé structuré de la vidéo :\n",
      "\n",
      "### Contexte\n",
      "La vidéo présente une discussion avec Gavin Newsom, le gouverneur de Californie, où il aborde divers sujets politiques et personnels. L'entretien se concentre sur son expérience, ses opinions politiques et ses projets futurs.\n",
      "\n",
      "### Objectifs\n",
      "- Partager la vision de Newsom sur le leadership et la politique moderne.\n",
      "- Discuter des défis économiques et sociaux en Californie.\n",
      "- Explorer ses vues sur Donald Trump et l'avenir politique des États-Unis.\n",
      "- Offrir un aperçu personnel de sa vie et de ses aspirations.\n",
      "\n",
      "### Points Clés\n",
      "1. **Leadership et Politique**: Newsom parle de l'importance de l'authenticité et de l'engagement dans la politique actuelle.\n",
      "   \n",
      "2. **Économie et Société**: Il aborde les défis économiques que la Californie doit surmonter, notamment le logement et l'inégalité des revenus.\n",
      "\n",
      "3. **Vision politique**: Ses vues sur la nécessité de réformes dans le système politique américain et sa critique de certaines politiques de l'administration Trump.\n",
      "\n",
      "4. **Vie personnelle**: Partage d'anecdotes personnelles, y compris des aspects de sa vie familiale et de ses luttes, mettant en lumière son caractère et sa résilience.\n",
      "\n",
      "5. **Futurs Projets**: Ses ambitions pour la Californie et ses réflexions éventuelles sur une carrière politique au niveau national.\n",
      "\n",
      "### Avantages\n",
      "- **Authenticité**: Newsom offre une vision franche de la politique, ce qui peut inspirer confiance chez certains électeurs.\n",
      "- **Expérience**: Sa position en tant que gouverneur lui donne une perspective unique sur les défis locaux et nationaux.\n",
      "- **Ambition et Vision Claires**: Ses objectifs pour l'avenir sont bien définis, ce qui peut attirer le soutien de ceux qui partagent sa vision.\n",
      "\n",
      "### Inconvénients\n",
      "- **Critiques politiques**: Sa critique de l'administration Trump peut polariser certains électeurs.\n",
      "- **Défis économiques**: Les problèmes économiques en Californie pourraient être vus comme un échec à gérer certains aspects de son mandat.\n",
      "- **Ambitions nationales**: Ses futures ambitions politiques pourraient être perçues comme distrayantes de ses responsabilités actuelles.\n",
      "\n",
      "Cette vidéo donne un aperçu approfondi de l'esprit et de la vision de Gavin Newsom, tout en explorant les complexités et les défis auxquels il est confronté en tant que leader.\n",
      "\n"
     ]
    },
    {
     "name": "stdin",
     "output_type": "stream",
     "text": [
      "\n",
      "You:  quit\n"
     ]
    },
    {
     "name": "stdout",
     "output_type": "stream",
     "text": [
      "👋 À bientôt !\n"
     ]
    }
   ],
   "source": [
    "\n",
    "# 🚀 Fonction principale de dialogue\n",
    "async def main():\n",
    "    input_items = []\n",
    "\n",
    "    print(\"=== YouTube Transcript Agent ===\")\n",
    "    print(\"Tapez 'exit' pour quitter.\")\n",
    "    print(\"Posez une question ou fournissez une URL YouTube.\")\n",
    "\n",
    "    while True:\n",
    "        try:\n",
    "            user_input = await asyncio.to_thread(input, \"\\nYou: \")\n",
    "            user_input = user_input.strip()\n",
    "        except (EOFError, KeyboardInterrupt):\n",
    "            print(\"\\n⛔️ Session interrompue.\")\n",
    "            break\n",
    "\n",
    "        if user_input.lower() in ['exit', 'quit', 'bye']:\n",
    "            print(\"👋 À bientôt !\")\n",
    "            break\n",
    "\n",
    "        if not user_input:\n",
    "            continue\n",
    "\n",
    "        input_items.append({\"content\": user_input, \"role\": \"user\"})\n",
    "\n",
    "        # 🧼 Nettoyage du contexte pour éviter les erreurs de contexte (limite token)\n",
    "        input_items = input_items[-8:]\n",
    "\n",
    "        print(\"\\nAgent: \", end=\"\", flush=True)\n",
    "\n",
    "        try:\n",
    "            result = Runner.run_streamed(agent, input=input_items)\n",
    "\n",
    "            async for event in result.stream_events():\n",
    "                if event.type == \"raw_response_event\" and isinstance(event.data, ResponseTextDeltaEvent):\n",
    "                    print(event.data.delta, end=\"\", flush=True)\n",
    "\n",
    "                elif event.type == \"run_item_stream_event\":\n",
    "                    if event.item.type == \"tool_call_item\":\n",
    "                        print(\"\\n-- 📥 Récupération de la transcription...\")\n",
    "\n",
    "                    elif event.item.type == \"tool_call_output_item\":\n",
    "                        # ✅ Évite de rebalancer les erreurs dans le contexte\n",
    "                        if \"⚠️\" in event.item.output or \"❌\" in event.item.output:\n",
    "                            print(f\"-- ⛔ {event.item.output}\")\n",
    "                        else:\n",
    "                            print(\"-- ✅ Transcription récupérée.\")\n",
    "                            input_items.append({\n",
    "                                \"content\": \"La transcription a été récupérée avec succès.\",\n",
    "                                \"role\": \"system\"\n",
    "                            })\n",
    "\n",
    "                    elif event.item.type == \"message_output_item\":\n",
    "                        input_items.append({\n",
    "                            \"content\": event.item.raw_item.content[0].text,\n",
    "                            \"role\": \"assistant\"\n",
    "                        })\n",
    "\n",
    "        except Exception as e:\n",
    "            print(f\"\\n⚠️ Erreur pendant l'exécution : {e}\")\n",
    "\n",
    "        print(\"\\n\")  # ligne de séparation\n",
    "\n",
    "\n",
    "# 🔁 Lance la boucle dans Jupyter ou un script asynchrone\n",
    "await main()"
   ]
  },
  {
   "cell_type": "code",
   "execution_count": 46,
   "id": "5e6f1cba-ef08-4871-be39-2cdef6b55c71",
   "metadata": {},
   "outputs": [
    {
     "name": "stdout",
     "output_type": "stream",
     "text": [
      "['__class__', '__delattr__', '__dict__', '__dir__', '__doc__', '__eq__', '__format__', '__ge__', '__getattribute__', '__gt__', '__hash__', '__init__', '__init_subclass__', '__le__', '__lt__', '__module__', '__ne__', '__new__', '__reduce__', '__reduce_ex__', '__repr__', '__setattr__', '__sizeof__', '__str__', '__subclasshook__', '__weakref__', 'fetch', 'list']\n"
     ]
    }
   ],
   "source": [
    "from youtube_transcript_api import YouTubeTranscriptApi\n",
    "print(dir(YouTubeTranscriptApi))\n"
   ]
  },
  {
   "cell_type": "markdown",
   "id": "b4e213b4-c41b-4dc8-9213-c79ae13b2108",
   "metadata": {},
   "source": [
    "### create agent"
   ]
  },
  {
   "cell_type": "code",
   "execution_count": null,
   "id": "04db1009-db50-490f-99d9-4347d2763b40",
   "metadata": {},
   "outputs": [],
   "source": [
    "# # to run in a .py script use\n",
    "# if __name__ == \"__main__\":\n",
    "#     asyncio.run(main())"
   ]
  },
  {
   "cell_type": "code",
   "execution_count": null,
   "id": "8335108d-a266-409d-9022-9674573c5d19",
   "metadata": {},
   "outputs": [],
   "source": []
  }
 ],
 "metadata": {
  "kernelspec": {
   "display_name": "Python (genai-env)",
   "language": "python",
   "name": "genai-env"
  },
  "language_info": {
   "codemirror_mode": {
    "name": "ipython",
    "version": 3
   },
   "file_extension": ".py",
   "mimetype": "text/x-python",
   "name": "python",
   "nbconvert_exporter": "python",
   "pygments_lexer": "ipython3",
   "version": "3.10.18"
  }
 },
 "nbformat": 4,
 "nbformat_minor": 5
}
