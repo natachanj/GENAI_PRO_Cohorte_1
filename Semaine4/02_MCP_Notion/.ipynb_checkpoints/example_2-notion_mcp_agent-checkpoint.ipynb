{
 "cells": [
  {
   "cell_type": "markdown",
   "id": "8c2d949d-266f-411e-875e-b2af2828b019",
   "metadata": {},
   "source": [
    "# Notion MCP Agent\n",
    "## ABB #5 - Session 4\n",
    "\n",
    "Code authored by: Shaw Talebi"
   ]
  },
  {
   "cell_type": "markdown",
   "id": "89caf2ed-7601-4f32-8570-8a019648805d",
   "metadata": {},
   "source": [
    "### imports"
   ]
  },
  {
   "cell_type": "code",
   "execution_count": 1,
   "id": "f6636f2b-6e1c-4a74-b8d6-bf58e0f19774",
   "metadata": {},
   "outputs": [
    {
     "data": {
      "text/plain": [
       "True"
      ]
     },
     "execution_count": 1,
     "metadata": {},
     "output_type": "execute_result"
    }
   ],
   "source": [
    "from agents.mcp.server import MCPServerStdio, MCPServer\n",
    "from agents import Agent, Runner, gen_trace_id, trace, ModelSettings\n",
    "from openai.types.responses import ResponseTextDeltaEvent\n",
    "import os\n",
    "import asyncio\n",
    "\n",
    "from dotenv import load_dotenv\n",
    "load_dotenv()"
   ]
  },
  {
   "cell_type": "code",
   "execution_count": 2,
   "id": "82331ab5-fc49-4045-9e62-366250f63034",
   "metadata": {
    "jupyter": {
     "source_hidden": true
    }
   },
   "outputs": [],
   "source": [
    "import logging\n",
    "# Suppress httpx INFO logs to reduce console output\n",
    "logging.getLogger(\"httpx\").setLevel(logging.WARNING)"
   ]
  },
  {
   "cell_type": "code",
   "execution_count": 3,
   "id": "4225661e-e24d-4374-9c12-c7da2c3c6955",
   "metadata": {},
   "outputs": [],
   "source": [
    "# import notion api key\n",
    "notion_key = os.getenv(\"NOTION_API_KEY\")"
   ]
  },
  {
   "cell_type": "markdown",
   "id": "1f1994b3-97dd-4e7d-8626-1ff752d9a005",
   "metadata": {},
   "source": [
    "### explore MCP server tools"
   ]
  },
  {
   "cell_type": "code",
   "execution_count": 4,
   "id": "c8ee489b-0e6a-41cf-ba45-e7d7eb57daae",
   "metadata": {},
   "outputs": [],
   "source": [
    "async with MCPServerStdio(\n",
    "    params={\n",
    "        \"command\": \"npx\",\n",
    "        \"args\": [\"-y\", \"@notionhq/notion-mcp-server\"],\n",
    "        \"env\": {\n",
    "        \"OPENAPI_MCP_HEADERS\": \"{\\\"Authorization\\\": \\\"Bearer \" + notion_key + \"\\\", \\\"Notion-Version\\\": \\\"2022-06-28\\\" }\"\n",
    "        }\n",
    "    }\n",
    ") as server:\n",
    "    tool_list = await server.list_tools()"
   ]
  },
  {
   "cell_type": "code",
   "execution_count": 5,
   "id": "5b69e98b-7fe4-4f5d-aad2-eaca1265d53a",
   "metadata": {},
   "outputs": [
    {
     "name": "stdout",
     "output_type": "stream",
     "text": [
      "['API-get-user', 'API-get-users', 'API-get-self', 'API-post-database-query', 'API-post-search', 'API-get-block-children', 'API-patch-block-children', 'API-retrieve-a-block', 'API-update-a-block', 'API-delete-a-block', 'API-retrieve-a-page', 'API-patch-page', 'API-post-page', 'API-create-a-database', 'API-update-a-database', 'API-retrieve-a-database', 'API-retrieve-a-page-property', 'API-retrieve-a-comment', 'API-create-a-comment']\n"
     ]
    }
   ],
   "source": [
    "toolname_list = [tool.name for tool in tool_list]\n",
    "print(toolname_list)"
   ]
  },
  {
   "cell_type": "code",
   "execution_count": 6,
   "id": "b271371d-7fc6-4883-811e-721e1a428cc3",
   "metadata": {},
   "outputs": [
    {
     "data": {
      "text/plain": [
       "['Retrieve a user\\nError Responses:\\n400: 400',\n",
       " 'List all users\\nError Responses:\\n400: 400',\n",
       " \"Retrieve your token's bot user\",\n",
       " 'Query a database',\n",
       " 'Search by title',\n",
       " 'Retrieve block children',\n",
       " 'Append block children',\n",
       " 'Retrieve a block',\n",
       " 'Update a block',\n",
       " 'Delete a block',\n",
       " 'Retrieve a page',\n",
       " 'Update page properties',\n",
       " 'Create a page',\n",
       " 'Create a database',\n",
       " 'Update a database',\n",
       " 'Retrieve a database',\n",
       " 'Retrieve a page property item',\n",
       " 'Retrieve comments',\n",
       " 'Create comment']"
      ]
     },
     "execution_count": 6,
     "metadata": {},
     "output_type": "execute_result"
    }
   ],
   "source": [
    "[tool.description for tool in tool_list]"
   ]
  },
  {
   "cell_type": "markdown",
   "id": "6e846f00-5d9b-4718-824c-092db58b8168",
   "metadata": {},
   "source": [
    "### create main with MCP server"
   ]
  },
  {
   "cell_type": "code",
   "execution_count": 7,
   "id": "2fe26cef-2f48-4d36-af5f-57814fa2969e",
   "metadata": {},
   "outputs": [],
   "source": [
    "async def main():\n",
    "    \n",
    "    async with MCPServerStdio(\n",
    "        params={\n",
    "            \"command\": \"npx\",\n",
    "            \"args\": [\"-y\", \"@notionhq/notion-mcp-server\"],\n",
    "            \"env\": {\n",
    "            \"OPENAPI_MCP_HEADERS\": \"{\\\"Authorization\\\": \\\"Bearer \" + notion_key + \"\\\", \\\"Notion-Version\\\": \\\"2022-06-28\\\" }\"\n",
    "            }\n",
    "        }\n",
    "    ) as server:\n",
    "        trace_id = gen_trace_id()\n",
    "        with trace(workflow_name=\"Notion Agent Example\", trace_id=trace_id):\n",
    "            print(f\"View trace: https://platform.openai.com/traces/trace?trace_id={trace_id}\\n\")\n",
    "            await run(server)"
   ]
  },
  {
   "cell_type": "markdown",
   "id": "cabd3aee-59bd-424c-9fa9-1f97d8abd6da",
   "metadata": {
    "scrolled": true
   },
   "source": [
    "### create run() with agent"
   ]
  },
  {
   "cell_type": "code",
   "execution_count": 8,
   "id": "7c866d92-2da4-44d0-a669-c5d2578ff2d5",
   "metadata": {},
   "outputs": [],
   "source": [
    "with open('context/example-2/instructions.md', 'r', encoding='utf-8') as file:\n",
    "    instructions = file.read()"
   ]
  },
  {
   "cell_type": "code",
   "execution_count": 9,
   "id": "f250f29f",
   "metadata": {},
   "outputs": [],
   "source": [
    "async def run(mcp_server: MCPServer):\n",
    "    agent = Agent(\n",
    "        name=\"Notion Agent\",\n",
    "        model=\"gpt-4.1-2025-04-14\",\n",
    "        instructions=instructions,\n",
    "        mcp_servers=[mcp_server],\n",
    "    )\n",
    "    ModelSettings.tool_choice = \"required\"\n",
    "    \n",
    "    input_items = []\n",
    "\n",
    "    print(\"=== Notion AI Agent ===\")\n",
    "    print(\"Type 'exit' to end the conversation\")\n",
    "\n",
    "    while True:\n",
    "        # Get user input\n",
    "        user_input = input(\"\\nUser: \").strip()\n",
    "        input_items.append({\"content\": user_input, \"role\": \"user\"})\n",
    "        \n",
    "        # Check for exit command\n",
    "        if user_input.lower() in ['exit', 'quit', 'bye']:\n",
    "            print(\"\\nGoodbye!\")\n",
    "            break\n",
    "            \n",
    "        if not user_input:\n",
    "            continue\n",
    "\n",
    "        print(\"\\nAgent: \", end=\"\", flush=True)\n",
    "        result = Runner.run_streamed(\n",
    "            agent,\n",
    "            input=input_items,\n",
    "        )\n",
    "        \n",
    "        async for event in result.stream_events():\n",
    "            # We'll ignore the raw responses event deltas for text\n",
    "            if event.type == \"raw_response_event\" and isinstance(event.data, ResponseTextDeltaEvent):\n",
    "                print(event.data.delta, end=\"\", flush=True)\n",
    "            elif event.type == \"run_item_stream_event\":\n",
    "                if event.item.type == \"tool_call_item\":\n",
    "                    print(f\"\\n-- Calling Tool: {event.item.raw_item.name}...\")\n",
    "                elif event.item.type == \"tool_call_output_item\":\n",
    "                    print(\"-- Tool call completed.\")\n",
    "                elif event.item.type == \"message_output_item\":\n",
    "                    input_items.append({\"content\": f\"{event.item.raw_item.content[0].text}\", \"role\": \"assistant\"})\n",
    "                else:\n",
    "                    pass  # Ignore other event types\n",
    "\n",
    "        print(\"\\n\")  # Add a newline after each response"
   ]
  },
  {
   "cell_type": "markdown",
   "id": "878a207c-44de-4397-923a-e6a932004a2f",
   "metadata": {},
   "source": [
    "### run agent"
   ]
  },
  {
   "cell_type": "code",
   "execution_count": 10,
   "id": "e4eee149-6f97-4a9a-88d7-652819156c69",
   "metadata": {},
   "outputs": [
    {
     "name": "stdout",
     "output_type": "stream",
     "text": [
      "View trace: https://platform.openai.com/traces/trace?trace_id=trace_09ab6a6870ec45c6bbc324e3760ae225\n",
      "\n",
      "=== Notion AI Agent ===\n",
      "Type 'exit' to end the conversation\n"
     ]
    },
    {
     "name": "stdin",
     "output_type": "stream",
     "text": [
      "\n",
      "User:  Find me posts on motivation\n"
     ]
    },
    {
     "name": "stdout",
     "output_type": "stream",
     "text": [
      "\n",
      "Agent: \n",
      "-- Calling Tool: API-post-search...\n",
      "-- Tool call completed.\n",
      "I found one post in your notes with \"motivation\" in the title:\n",
      "\n",
      "- Motivation hack: don’t do it for yourself\n",
      "\n",
      "Would you like me to pull up the full content of this post?\n",
      "\n"
     ]
    },
    {
     "name": "stdin",
     "output_type": "stream",
     "text": [
      "\n",
      "User:  Can you give me the link to this page?\n"
     ]
    },
    {
     "name": "stdout",
     "output_type": "stream",
     "text": [
      "\n",
      "Agent: \n",
      "-- Calling Tool: API-post-search...\n",
      "-- Tool call completed.\n",
      "Here is the link to the \"Motivation hack: don’t do it for yourself\" page in your Notion workspace:\n",
      "[https://www.notion.so/Motivation-hack-don-t-do-it-for-yourself-21c5f2e26be980359976f5ee0b61b720](https://www.notion.so/Motivation-hack-don-t-do-it-for-yourself-21c5f2e26be980359976f5ee0b61b720)\n",
      "\n",
      "Let me know if you need the content or any other details from this page!\n",
      "\n"
     ]
    },
    {
     "name": "stdin",
     "output_type": "stream",
     "text": [
      "\n",
      "User:  Write a draft version of this post\n"
     ]
    },
    {
     "name": "stdout",
     "output_type": "stream",
     "text": [
      "\n",
      "Agent: \n",
      "-- Calling Tool: API-get-block-children...\n",
      "-- Tool call completed.\n",
      "It looks like the \"Motivation hack: don’t do it for yourself\" page doesn’t have any content saved yet—just the title exists.\n",
      "\n",
      "If you want, you can provide your notes, ideas, or an outline for the post, and I’ll draft a version for you in Shaw’s style! Let me know how you’d like to proceed.\n",
      "\n"
     ]
    },
    {
     "name": "stdin",
     "output_type": "stream",
     "text": [
      "\n",
      "User:  Just make your best guess based on the title and example posts\n"
     ]
    },
    {
     "name": "stdout",
     "output_type": "stream",
     "text": [
      "\n",
      "Agent: Absolutely! Here’s my step-by-step reasoning and detailed breakdown before the draft, per your instructions.\n",
      "\n",
      "---\n",
      "\n",
      "## Step 1: Purpose & Audience\n",
      "\n",
      "- **Purpose:** Share a practical, counterintuitive strategy for staying motivated, based on the title “don’t do it for yourself.” The goal is to educate and provide a concrete perspective on motivation, not generic inspiration.\n",
      "- **Target Audience:** Builders, entrepreneurs, technical creators, and solopreneurs who struggle with motivation and want actionable advice.\n",
      "\n",
      "---\n",
      "\n",
      "## Step 2: Post Wireframe\n",
      "\n",
      "- **Hook:** A counter-intuitive insight about motivation (“doing it for yourself doesn’t always work”).\n",
      "- **Meat:** Explain why “doing it for yourself” can backfire, possibly due to self-imposed pressure or unclear goals. Suggest concrete alternative(s): do it for a client, a friend, an audience, or to deliver value to someone specific. Maybe share that accountability or creating for others brings consistency.\n",
      "- **CTA:** Ask readers what “external drivers” help them stay on track.\n",
      "\n",
      "---\n",
      "\n",
      "## Step 3: Write the Body\n",
      "\n",
      "Many people rely on internal motivation—like self-improvement or personal goals—to stay productive. But that approach can stall, especially if your motivation drops or goals get fuzzy.\n",
      "\n",
      "A trick that’s helped me: shift the focus outward. Build something for a friend, share your progress with a community, or help solve a real person’s problem. When you create for others (even just one person), there’s built-in accountability and feedback. That outside perspective gives your work urgency and makes it easier to keep going, even on hard days.\n",
      "\n",
      "---\n",
      "\n",
      "## Step 4: CTA\n",
      "\n",
      "Who do you create for when your motivation drops?\n",
      "\n",
      "---\n",
      "\n",
      "## Step 5: Hook Ideas (with 3–5 labeled directions)\n",
      "\n",
      "**Step 5A: Brainstorm Hook Directions**\n",
      "- [User’s own phrasing] “Motivation hack: don’t do it for yourself”\n",
      "- [Problem/solution] Internal motivation is unreliable; external focus makes results more consistent\n",
      "- [Trend/urgency] Most people focus on habits and willpower—overlook the power of accountability\n",
      "- [Personal story] When I started building for someone else, my output became more reliable\n",
      "\n",
      "**Step 5B: Notes**\n",
      "- [User’s own phrasing] Use almost exactly as written for clarity\n",
      "- [Problem/solution] “If willpower isn’t working, find someone to benefit from your work”\n",
      "- [Trend/urgency] “Everyone talks about self-motivation, but it often fails”\n",
      "- [Personal story] “I shipped more projects when they were for someone else”\n",
      "\n",
      "**Step 5C: Choose Best Hook**\n",
      "The [User’s own phrasing] direction is strongest here—clear, direct, and in Shaw’s style.\n",
      "\n",
      "---\n",
      "\n",
      "## Step 6: Draft Full Post\n",
      "\n",
      "Motivation hack: don’t do it for yourself.\n",
      "\n",
      "If you’ve ever struggled to stay consistent, there’s a good chance you’re relying too much on internal motivation.\n",
      "\n",
      "Here’s what I mean:\n",
      "\n",
      "- When your only goal is to improve yourself or hit a personal milestone, it can be easy to stall (or talk yourself out of taking action).\n",
      "- But when your work benefits someone else—even just one other person—it’s much harder to walk away from.\n",
      "- Sharing progress with a community, building for a friend, or solving a real person’s problem injects accountability and urgency.\n",
      "\n",
      "I find that focusing on delivering value to someone else makes it easier to show up and make progress—even when motivation is running low.\n",
      "\n",
      "Who do you create for when your motivation drops?\n",
      "\n",
      "---\n",
      "\n",
      "## Step 7: Review for Style, Voice, and Flow\n",
      "\n",
      "- Only one em dash present (after “personal milestone”)\n",
      "- No business clichés, idioms, or motivational language\n",
      "- Direct, literal language and clear, actionable point\n",
      "- Steps/breakdown are easy to scan\n",
      "- CTA is specific and concrete\n",
      "\n",
      "---\n",
      "\n",
      "## Step 8: Final Post\n",
      "\n",
      "---\n",
      "\n",
      "**Motivation hack: don’t do it for yourself.**\n",
      "\n",
      "If you’ve ever struggled to stay consistent, there’s a good chance you’re relying too much on internal motivation.\n",
      "\n",
      "Here’s what I mean:\n",
      "\n",
      "- When your only goal is to improve yourself or hit a personal milestone, it can be easy to stall (or talk yourself out of taking action).\n",
      "- But when your work benefits someone else—even just one other person—it’s much harder to walk away from.\n",
      "- Sharing progress with a community, building for a friend, or solving a real person’s problem injects accountability and urgency.\n",
      "\n",
      "I find that focusing on delivering value to someone else makes it easier to show up and make progress—even when motivation is running low.\n",
      "\n",
      "Who do you create for when your motivation drops?\n",
      "\n"
     ]
    },
    {
     "name": "stdin",
     "output_type": "stream",
     "text": [
      "\n",
      "User:  Can you add the final post to the page content?\n"
     ]
    },
    {
     "name": "stdout",
     "output_type": "stream",
     "text": [
      "\n",
      "Agent: \n",
      "-- Calling Tool: API-patch-block-children...\n",
      "-- Tool call completed.\n",
      "The final post has been added to the \"Motivation hack: don’t do it for yourself\" page in your Notion workspace.\n",
      "\n",
      "Would you like the link again, or need help with anything else?\n",
      "\n"
     ]
    },
    {
     "name": "stdin",
     "output_type": "stream",
     "text": [
      "\n",
      "User:  exit\n"
     ]
    },
    {
     "name": "stdout",
     "output_type": "stream",
     "text": [
      "\n",
      "Goodbye!\n"
     ]
    },
    {
     "name": "stdout",
     "output_type": "stream",
     "text": [
      "\n",
      "User:  Return post ideas about business and entrepreneurship\n"
     ]
    }
   ],
   "source": [
    "await main()\n",
    "# find me posts about AI consulting"
   ]
  },
  {
   "cell_type": "code",
   "execution_count": 11,
   "id": "6c708192-577b-4432-934a-e49d99b07e4b",
   "metadata": {
    "jupyter": {
     "source_hidden": true
    }
   },
   "outputs": [],
   "source": [
    "# # to run in a .py script use\n",
    "# if __name__ == \"__main__\":\n",
    "#     asyncio.run(main())"
   ]
  }
 ],
 "metadata": {
  "kernelspec": {
   "display_name": "Python 3 (ipykernel)",
   "language": "python",
   "name": "python3"
  },
  "language_info": {
   "codemirror_mode": {
    "name": "ipython",
    "version": 3
   },
   "file_extension": ".py",
   "mimetype": "text/x-python",
   "name": "python",
   "nbconvert_exporter": "python",
   "pygments_lexer": "ipython3",
   "version": "3.12.10"
  }
 },
 "nbformat": 4,
 "nbformat_minor": 5
}
