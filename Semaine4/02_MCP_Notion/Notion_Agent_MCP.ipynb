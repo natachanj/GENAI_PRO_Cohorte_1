{
 "cells": [
  {
   "cell_type": "markdown",
   "id": "8c2d949d-266f-411e-875e-b2af2828b019",
   "metadata": {},
   "source": [
    "# Agent IA Notion\n"
   ]
  },
  {
   "cell_type": "markdown",
   "id": "89caf2ed-7601-4f32-8570-8a019648805d",
   "metadata": {},
   "source": [
    "###  Importation des packages"
   ]
  },
  {
   "cell_type": "code",
   "execution_count": 9,
   "id": "f6636f2b-6e1c-4a74-b8d6-bf58e0f19774",
   "metadata": {},
   "outputs": [
    {
     "data": {
      "text/plain": [
       "True"
      ]
     },
     "execution_count": 9,
     "metadata": {},
     "output_type": "execute_result"
    }
   ],
   "source": [
    "from agents.mcp.server import MCPServerStdio, MCPServer\n",
    "from agents import Agent, Runner, gen_trace_id, trace, ModelSettings\n",
    "from openai.types.responses import ResponseTextDeltaEvent\n",
    "import os\n",
    "import asyncio\n",
    "\n",
    "from dotenv import load_dotenv\n",
    "load_dotenv()"
   ]
  },
  {
   "cell_type": "code",
   "execution_count": 10,
   "id": "82331ab5-fc49-4045-9e62-366250f63034",
   "metadata": {},
   "outputs": [],
   "source": [
    "import logging\n",
    "# Suppress httpx INFO logs to reduce console output\n",
    "logging.getLogger(\"httpx\").setLevel(logging.WARNING)"
   ]
  },
  {
   "cell_type": "markdown",
   "id": "e4b96075-c10e-493c-a517-fb7077dc09c6",
   "metadata": {},
   "source": [
    "##  Comment obtenir une clé API Notion (token d'intégration interne)\n",
    "\n",
    "###  Étape 1 : Créer une intégration\n",
    "\n",
    "1. Aller sur [https://www.notion.com/my-integrations](https://www.notion.com/my-integrations)\n",
    "2. Cliquer sur **\"New integration\"**\n",
    "3. Remplir :\n",
    "\n",
    "   * Le **nom** de l’intégration\n",
    "   * Sélectionner l’espace de travail\n",
    "   * (Facultatif) Ajouter un logo\n",
    "4. Cliquer sur **\"Submit\"**\n",
    "\n",
    "\n",
    "\n",
    "### Étape 2 : Récupérer la clé API\n",
    "\n",
    "* Une fois l’intégration créée, vous verrez un champ **\"Internal Integration Token\"**.\n",
    "* **Copiez ce jeton** : c’est votre **clé API Notion**\n",
    "*  Gardez-le **secret** et stockez-le dans un fichier `.env` si possible.\n",
    "\n",
    "\n",
    "### Étape 3 : Donner l’accès à une page ou base de données\n",
    "\n",
    "1. Ouvrir la page ou la base Notion\n",
    "2. Cliquer sur **\"Partager\"** > **\"Ajouter une connexion\"**\n",
    "3. Sélectionner l’intégration que vous avez créée\n",
    "4. Valider pour lui donner les droits d’accès\n",
    "\n",
    "\n",
    "###  Étape 4 : Utiliser la clé  avec une variable d’environnement\n",
    "\n",
    "\n",
    "Fichier `.env` :\n",
    "\n",
    "```env\n",
    "NOTION_API_KEY=your_token_here\n",
    "```\n",
    "###  Bonnes pratiques\n",
    "\n",
    "* Ne publiez jamais votre clé dans un dépôt public\n",
    "* Donnez des accès **seulement aux pages nécessaires**\n",
    "* Vérifiez que la version utilisée est compatible : ajoutez toujours l'en-tête `Notion-Version: 2022-06-28` si vous utilisez des requêtes manuelles\n",
    "\n",
    "\n"
   ]
  },
  {
   "cell_type": "code",
   "execution_count": 11,
   "id": "4225661e-e24d-4374-9c12-c7da2c3c6955",
   "metadata": {},
   "outputs": [
    {
     "name": "stdout",
     "output_type": "stream",
     "text": [
      "Clé API Notion chargée : ntn_4790...\n",
      "Clé API GPT chargée : sk-proj-...\n"
     ]
    }
   ],
   "source": [
    "# import notion api key\n",
    "from dotenv import load_dotenv                              # Importe la fonction pour charger les variables d’environnement depuis un fichier .env\n",
    "import os                                                   # Permet d’accéder aux variables d’environnement via os.getenv()\n",
    "\n",
    "load_dotenv(dotenv_path=\".env\", override=True)              # Charge explicitement le fichier .env et écrase les variables existantes si nécessaire\n",
    "\n",
    "notion_key = os.getenv(\"NOTION_API_KEY\")                       # Récupère la clé API OpenAI depuis l’environnement\n",
    "print(\"Clé API Notion chargée :\", notion_key[:8] + \"...\" if notion_key else \"Aucune clé détectée\")  # Affiche un extrait de la clé ou un message d’erreur\n",
    "\n",
    "api_key = os.getenv(\"OPENAI_API_KEY\")                       # Récupère la clé API OpenAI depuis l’environnement\n",
    "print(\"Clé API GPT chargée :\", api_key[:8] + \"...\" if api_key else \"Aucune clé détectée\")  # Affiche un extrait de la clé ou un message d’erreur\n",
    "\n",
    "\n"
   ]
  },
  {
   "cell_type": "markdown",
   "id": "1f1994b3-97dd-4e7d-8626-1ff752d9a005",
   "metadata": {},
   "source": [
    "### explore MCP server tools"
   ]
  },
  {
   "cell_type": "code",
   "execution_count": 12,
   "id": "1be8d9bf-bd81-4acf-bcae-16dd25cc489e",
   "metadata": {},
   "outputs": [],
   "source": [
    "async with MCPServerStdio(\n",
    "    params={\n",
    "        \"command\": \"npx\",\n",
    "        \"args\": [\"-y\", \"@notionhq/notion-mcp-server\"],\n",
    "        \"env\": {\n",
    "        \"OPENAPI_MCP_HEADERS\": \"{\\\"Authorization\\\": \\\"Bearer \" + notion_key + \"\\\", \\\"Notion-Version\\\": \\\"2022-06-28\\\" }\"\n",
    "        }\n",
    "    }\n",
    ") as server:\n",
    "    tool_list = await server.list_tools()\n"
   ]
  },
  {
   "cell_type": "code",
   "execution_count": 13,
   "id": "7a16dbcc-ebda-439e-82f5-040cb07bebce",
   "metadata": {},
   "outputs": [
    {
     "name": "stdout",
     "output_type": "stream",
     "text": [
      "['API-get-user', 'API-get-users', 'API-get-self', 'API-post-database-query', 'API-post-search', 'API-get-block-children', 'API-patch-block-children', 'API-retrieve-a-block', 'API-update-a-block', 'API-delete-a-block', 'API-retrieve-a-page', 'API-patch-page', 'API-post-page', 'API-create-a-database', 'API-update-a-database', 'API-retrieve-a-database', 'API-retrieve-a-page-property', 'API-retrieve-a-comment', 'API-create-a-comment']\n"
     ]
    }
   ],
   "source": [
    "toolname_list = [tool.name for tool in tool_list]\n",
    "print(toolname_list)"
   ]
  },
  {
   "cell_type": "code",
   "execution_count": 14,
   "id": "a375a34c-da9c-4e94-a91d-e7510f3a0cf5",
   "metadata": {},
   "outputs": [
    {
     "data": {
      "text/plain": [
       "['Retrieve a user\\nError Responses:\\n400: 400',\n",
       " 'List all users\\nError Responses:\\n400: 400',\n",
       " \"Retrieve your token's bot user\",\n",
       " 'Query a database',\n",
       " 'Search by title',\n",
       " 'Retrieve block children',\n",
       " 'Append block children',\n",
       " 'Retrieve a block',\n",
       " 'Update a block',\n",
       " 'Delete a block',\n",
       " 'Retrieve a page',\n",
       " 'Update page properties',\n",
       " 'Create a page',\n",
       " 'Create a database',\n",
       " 'Update a database',\n",
       " 'Retrieve a database',\n",
       " 'Retrieve a page property item',\n",
       " 'Retrieve comments',\n",
       " 'Create comment']"
      ]
     },
     "execution_count": 14,
     "metadata": {},
     "output_type": "execute_result"
    }
   ],
   "source": [
    "[tool.description for tool in tool_list]"
   ]
  },
  {
   "cell_type": "code",
   "execution_count": 15,
   "id": "e68188d6-1da9-4705-b9b2-cd89c7214b87",
   "metadata": {},
   "outputs": [
    {
     "name": "stdout",
     "output_type": "stream",
     "text": [
      "Requirement already satisfied: nest_asyncio in /opt/anaconda3/envs/tf2-env/lib/python3.10/site-packages (1.6.0)\n"
     ]
    }
   ],
   "source": [
    "!pip install nest_asyncio\n"
   ]
  },
  {
   "cell_type": "code",
   "execution_count": null,
   "id": "c8ee489b-0e6a-41cf-ba45-e7d7eb57daae",
   "metadata": {},
   "outputs": [],
   "source": []
  },
  {
   "cell_type": "markdown",
   "id": "6e846f00-5d9b-4718-824c-092db58b8168",
   "metadata": {},
   "source": [
    "### Créer le point d'entrée principal avec le serveur MCP\n"
   ]
  },
  {
   "cell_type": "code",
   "execution_count": 16,
   "id": "2fe26cef-2f48-4d36-af5f-57814fa2969e",
   "metadata": {},
   "outputs": [
    {
     "name": "stdout",
     "output_type": "stream",
     "text": [
      " Clé API détectée : ntn_479001...\n",
      " Outils MCP disponibles : [Tool(name='API-get-user', title=None, description='Retrieve a user\\nError Responses:\\n400: 400', inputSchema={'$defs': {}, 'type': 'object', 'properties': {'user_id': {'type': 'string', 'format': 'uuid'}}, 'required': ['user_id']}, outputSchema=None, annotations=None, meta=None), Tool(name='API-get-users', title=None, description='List all users\\nError Responses:\\n400: 400', inputSchema={'$defs': {}, 'type': 'object', 'properties': {'start_cursor': {'type': 'string', 'description': 'If supplied, this endpoint will return a page of results starting after the cursor provided. If not supplied, this endpoint will return the first page of results.'}, 'page_size': {'type': 'integer', 'default': 100, 'description': 'The number of items from the full list desired in the response. Maximum: 100'}}, 'required': []}, outputSchema=None, annotations=None, meta=None), Tool(name='API-get-self', title=None, description=\"Retrieve your token's bot user\", inputSchema={'$defs': {}, 'type': 'object', 'properties': {}, 'required': []}, outputSchema=None, annotations=None, meta=None), Tool(name='API-post-database-query', title=None, description='Query a database', inputSchema={'$defs': {}, 'type': 'object', 'properties': {'database_id': {'type': 'string', 'description': 'Identifier for a Notion database.'}, 'filter_properties': {'type': 'array', 'items': {'type': 'string'}, 'description': 'A list of page property value IDs associated with the database. Use this param to limit the response to a specific page property value or values for pages that meet the `filter` criteria.'}, 'filter': {'type': 'object', 'description': 'When supplied, limits which pages are returned based on the [filter conditions](ref:post-database-query-filter).', 'additionalProperties': True}, 'sorts': {'type': 'array', 'description': 'When supplied, orders the results based on the provided [sort criteria](ref:post-database-query-sort).', 'items': {'type': 'object', 'properties': {'property': {'type': 'string'}, 'direction': {'type': 'string', 'enum': ['ascending', 'descending']}}, 'required': ['property', 'direction'], 'additionalProperties': True}}, 'start_cursor': {'type': 'string', 'description': 'When supplied, returns a page of results starting after the cursor provided. If not supplied, this endpoint will return the first page of results.'}, 'page_size': {'type': 'integer', 'description': 'The number of items from the full list desired in the response. Maximum: 100', 'default': 100}, 'archived': {'type': 'boolean'}, 'in_trash': {'type': 'boolean'}}, 'required': ['database_id']}, outputSchema=None, annotations=None, meta=None), Tool(name='API-post-search', title=None, description='Search by title', inputSchema={'$defs': {}, 'type': 'object', 'properties': {'query': {'type': 'string', 'description': 'The text that the API compares page and database titles against.'}, 'sort': {'type': 'object', 'description': 'A set of criteria, `direction` and `timestamp` keys, that orders the results. The **only** supported timestamp value is `\"last_edited_time\"`. Supported `direction` values are `\"ascending\"` and `\"descending\"`. If `sort` is not provided, then the most recently edited results are returned first.', 'properties': {'direction': {'type': 'string', 'description': 'The direction to sort. Possible values include `ascending` and `descending`.'}, 'timestamp': {'type': 'string', 'description': 'The name of the timestamp to sort against. Possible values include `last_edited_time`.'}}, 'additionalProperties': True}, 'filter': {'type': 'object', 'description': 'A set of criteria, `value` and `property` keys, that limits the results to either only pages or only databases. Possible `value` values are `\"page\"` or `\"database\"`. The only supported `property` value is `\"object\"`.', 'properties': {'value': {'type': 'string', 'description': 'The value of the property to filter the results by.  Possible values for object type include `page` or `database`.  **Limitation**: Currently the only filter allowed is `object` which will filter by type of object (either `page` or `database`)'}, 'property': {'type': 'string', 'description': 'The name of the property to filter by. Currently the only property you can filter by is the object type.  Possible values include `object`.   Limitation: Currently the only filter allowed is `object` which will filter by type of object (either `page` or `database`)'}}, 'additionalProperties': True}, 'start_cursor': {'type': 'string', 'description': 'A `cursor` value returned in a previous response that If supplied, limits the response to results starting after the `cursor`. If not supplied, then the first page of results is returned. Refer to [pagination](https://developers.notion.com/reference/intro#pagination) for more details.'}, 'page_size': {'type': 'integer', 'format': 'int32', 'description': 'The number of items from the full list to include in the response. Maximum: `100`.', 'default': 100}}, 'required': []}, outputSchema=None, annotations=None, meta=None), Tool(name='API-get-block-children', title=None, description='Retrieve block children', inputSchema={'$defs': {}, 'type': 'object', 'properties': {'block_id': {'type': 'string', 'description': 'Identifier for a [block](ref:block)'}, 'start_cursor': {'type': 'string', 'description': 'If supplied, this endpoint will return a page of results starting after the cursor provided. If not supplied, this endpoint will return the first page of results.'}, 'page_size': {'type': 'integer', 'format': 'int32', 'default': 100, 'description': 'The number of items from the full list desired in the response. Maximum: 100'}}, 'required': ['block_id']}, outputSchema=None, annotations=None, meta=None), Tool(name='API-patch-block-children', title=None, description='Append block children', inputSchema={'$defs': {}, 'type': 'object', 'properties': {'block_id': {'type': 'string', 'description': 'Identifier for a [block](ref:block). Also accepts a [page](ref:page) ID.'}, 'children': {'type': 'array', 'description': 'Child content to append to a container block as an array of [block objects](ref:block)', 'items': {'type': 'object', 'properties': {'paragraph': {'type': 'object', 'properties': {'rich_text': {'type': 'array', 'items': {'type': 'object', 'properties': {'text': {'type': 'object', 'properties': {'content': {'type': 'string'}, 'link': {'type': ['object', 'null']}}, 'required': ['content'], 'additionalProperties': False}, 'type': {'type': 'string', 'enum': ['text']}}, 'required': ['text'], 'additionalProperties': False}}}, 'required': ['rich_text'], 'additionalProperties': False}, 'bulleted_list_item': {'type': 'object', 'properties': {'rich_text': {'type': 'array', 'items': {'type': 'object', 'properties': {'text': {'type': 'object', 'properties': {'content': {'type': 'string'}, 'link': {'type': ['object', 'null']}}, 'required': ['content'], 'additionalProperties': False}, 'type': {'type': 'string', 'enum': ['text']}}, 'required': ['text'], 'additionalProperties': False}}}, 'required': ['rich_text'], 'additionalProperties': False}, 'type': {'type': 'string', 'enum': ['paragraph', 'bulleted_list_item']}}, 'additionalProperties': False}}, 'after': {'type': 'string', 'description': 'The ID of the existing block that the new block should be appended after.'}}, 'required': ['block_id', 'children']}, outputSchema=None, annotations=None, meta=None), Tool(name='API-retrieve-a-block', title=None, description='Retrieve a block', inputSchema={'$defs': {}, 'type': 'object', 'properties': {'block_id': {'type': 'string', 'description': 'Identifier for a Notion block'}}, 'required': ['block_id']}, outputSchema=None, annotations=None, meta=None), Tool(name='API-update-a-block', title=None, description='Update a block', inputSchema={'$defs': {}, 'type': 'object', 'properties': {'block_id': {'type': 'string', 'description': 'Identifier for a Notion block'}, 'type': {'type': 'object', 'description': 'The [block object `type`](ref:block#block-object-keys) value with the properties to be updated. Currently only `text` (for supported block types) and `checked` (for `to_do` blocks) fields can be updated.', 'properties': {}, 'additionalProperties': True}, 'archived': {'type': 'boolean', 'description': 'Set to true to archive (delete) a block. Set to false to un-archive (restore) a block.', 'default': True}}, 'required': ['block_id']}, outputSchema=None, annotations=None, meta=None), Tool(name='API-delete-a-block', title=None, description='Delete a block', inputSchema={'$defs': {}, 'type': 'object', 'properties': {'block_id': {'type': 'string', 'description': 'Identifier for a Notion block'}}, 'required': ['block_id']}, outputSchema=None, annotations=None, meta=None), Tool(name='API-retrieve-a-page', title=None, description='Retrieve a page', inputSchema={'$defs': {}, 'type': 'object', 'properties': {'page_id': {'type': 'string', 'description': 'Identifier for a Notion page'}, 'filter_properties': {'type': 'string', 'description': 'A list of page property value IDs associated with the page. Use this param to limit the response to a specific page property value or values. To retrieve multiple properties, specify each page property ID. For example: `?filter_properties=iAk8&filter_properties=b7dh`.'}}, 'required': ['page_id']}, outputSchema=None, annotations=None, meta=None), Tool(name='API-patch-page', title=None, description='Update page properties', inputSchema={'$defs': {}, 'type': 'object', 'properties': {'page_id': {'type': 'string', 'description': 'The identifier for the Notion page to be updated.'}, 'properties': {'type': 'object', 'description': 'The property values to update for the page. The keys are the names or IDs of the property and the values are property values. If a page property ID is not included, then it is not changed.', 'properties': {'title': {'type': 'array', 'items': {'type': 'object', 'properties': {'text': {'type': 'object', 'properties': {'content': {'type': 'string'}, 'link': {'type': ['object', 'null']}}, 'required': ['content'], 'additionalProperties': False}, 'type': {'type': 'string', 'enum': ['text']}}, 'required': ['text'], 'additionalProperties': False}}, 'type': {'type': 'string', 'enum': ['title']}}, 'required': ['title'], 'additionalProperties': False}, 'in_trash': {'type': 'boolean', 'description': 'Set to true to delete a block. Set to false to restore a block.', 'default': False}, 'archived': {'type': 'boolean'}, 'icon': {'type': 'object', 'description': 'A page icon for the page. Supported types are [external file object](https://developers.notion.com/reference/file-object) or [emoji object](https://developers.notion.com/reference/emoji-object).', 'properties': {'emoji': {'type': 'string'}}, 'required': ['emoji'], 'additionalProperties': False}, 'cover': {'type': 'object', 'description': 'A cover image for the page. Only [external file objects](https://developers.notion.com/reference/file-object) are supported.', 'properties': {'external': {'type': 'object', 'properties': {'url': {'type': 'string'}}, 'required': ['url'], 'additionalProperties': False}, 'type': {'type': 'string', 'enum': ['external']}}, 'required': ['external'], 'additionalProperties': False}}, 'required': ['page_id']}, outputSchema=None, annotations=None, meta=None), Tool(name='API-post-page', title=None, description='Create a page', inputSchema={'$defs': {}, 'type': 'object', 'properties': {'parent': {'type': 'object', 'properties': {'page_id': {'type': 'string', 'format': 'uuid'}}, 'required': ['page_id'], 'additionalProperties': True}, 'properties': {'type': 'object', 'properties': {'title': {'type': 'array', 'items': {'type': 'object', 'properties': {'text': {'type': 'object', 'properties': {'content': {'type': 'string'}}, 'required': ['content'], 'additionalProperties': True}}, 'required': ['text'], 'additionalProperties': True}}, 'type': {'type': 'string', 'enum': ['title']}}, 'required': ['title'], 'additionalProperties': False}, 'children': {'type': 'array', 'description': 'The content to be rendered on the new page, represented as an array of [block objects](https://developers.notion.com/reference/block).', 'items': {'type': 'string'}}, 'icon': {'type': 'string', 'format': 'json', 'description': 'The icon of the new page. Either an [emoji object](https://developers.notion.com/reference/emoji-object) or an [external file object](https://developers.notion.com/reference/file-object)..'}, 'cover': {'type': 'string', 'format': 'json', 'description': 'The cover image of the new page, represented as a [file object](https://developers.notion.com/reference/file-object).'}}, 'required': ['parent', 'properties']}, outputSchema=None, annotations=None, meta=None), Tool(name='API-create-a-database', title=None, description='Create a database', inputSchema={'$defs': {}, 'type': 'object', 'properties': {'parent': {'type': 'object', 'properties': {'type': {'type': 'string', 'enum': ['page_id']}, 'page_id': {'type': 'string', 'format': 'uuid'}}, 'required': ['type', 'page_id'], 'additionalProperties': True}, 'properties': {'type': 'object', 'description': 'Property schema of database. The keys are the names of properties as they appear in Notion and the values are [property schema objects](https://developers.notion.com/reference/property-schema-object).', 'additionalProperties': {'oneOf': [{'type': 'object', 'properties': {'title': {'type': 'object', 'properties': {}, 'additionalProperties': False}, 'description': {'type': 'string'}}, 'required': ['title'], 'additionalProperties': False}]}}, 'title': {'type': 'array', 'items': {'type': 'object', 'properties': {'text': {'type': 'object', 'properties': {'content': {'type': 'string'}, 'link': {'type': ['object', 'null']}}, 'required': ['content'], 'additionalProperties': False}, 'type': {'type': 'string', 'enum': ['text']}}, 'required': ['text'], 'additionalProperties': False}}}, 'required': ['parent', 'properties']}, outputSchema=None, annotations=None, meta=None), Tool(name='API-update-a-database', title=None, description='Update a database', inputSchema={'$defs': {}, 'type': 'object', 'properties': {'database_id': {'type': 'string', 'description': 'identifier for a Notion database'}, 'title': {'type': 'array', 'description': 'An array of [rich text objects](https://developers.notion.com/reference/rich-text) that represents the title of the database that is displayed in the Notion UI. If omitted, then the database title remains unchanged.', 'items': {'type': 'object', 'properties': {'text': {'type': 'object', 'properties': {'content': {'type': 'string'}, 'link': {'type': ['object', 'null']}}, 'required': ['content'], 'additionalProperties': False}, 'type': {'type': 'string', 'enum': ['text']}}, 'required': ['text'], 'additionalProperties': False}}, 'description': {'type': 'array', 'description': 'An array of [rich text objects](https://developers.notion.com/reference/rich-text) that represents the description of the database that is displayed in the Notion UI. If omitted, then the database description remains unchanged.', 'items': {'type': 'object', 'properties': {'text': {'type': 'object', 'properties': {'content': {'type': 'string'}, 'link': {'type': ['object', 'null']}}, 'required': ['content'], 'additionalProperties': False}, 'type': {'type': 'string', 'enum': ['text']}}, 'required': ['text'], 'additionalProperties': False}}, 'properties': {'type': 'object', 'description': 'Property schema of database. The keys are the names of properties as they appear in Notion and the values are [property schema objects](https://developers.notion.com/reference/property-schema-object).', 'properties': {'name': {'type': 'string'}}, 'additionalProperties': True}}, 'required': ['database_id']}, outputSchema=None, annotations=None, meta=None), Tool(name='API-retrieve-a-database', title=None, description='Retrieve a database', inputSchema={'$defs': {}, 'type': 'object', 'properties': {'database_id': {'type': 'string', 'description': 'An identifier for the Notion database.'}}, 'required': ['database_id']}, outputSchema=None, annotations=None, meta=None), Tool(name='API-retrieve-a-page-property', title=None, description='Retrieve a page property item', inputSchema={'$defs': {}, 'type': 'object', 'properties': {'page_id': {'type': 'string', 'description': 'Identifier for a Notion page'}, 'property_id': {'type': 'string', 'description': 'Identifier for a page [property](https://developers.notion.com/reference/page#all-property-values)'}, 'page_size': {'type': 'integer', 'format': 'int32', 'description': 'For paginated properties. The max number of property item objects on a page. The default size is 100'}, 'start_cursor': {'type': 'string', 'description': 'For paginated properties.'}}, 'required': ['page_id', 'property_id']}, outputSchema=None, annotations=None, meta=None), Tool(name='API-retrieve-a-comment', title=None, description='Retrieve comments', inputSchema={'$defs': {}, 'type': 'object', 'properties': {'block_id': {'type': 'string', 'description': 'Identifier for a Notion block or page'}, 'start_cursor': {'type': 'string', 'description': 'If supplied, this endpoint will return a page of results starting after the cursor provided. If not supplied, this endpoint will return the first page of results.'}, 'page_size': {'type': 'integer', 'format': 'int32', 'description': 'The number of items from the full list desired in the response. Maximum: 100'}}, 'required': ['block_id']}, outputSchema=None, annotations=None, meta=None), Tool(name='API-create-a-comment', title=None, description='Create comment', inputSchema={'$defs': {}, 'type': 'object', 'properties': {'parent': {'type': 'object', 'description': 'The page that contains the comment', 'properties': {'page_id': {'type': 'string', 'description': 'the page ID'}}, 'required': ['page_id'], 'additionalProperties': True}, 'rich_text': {'type': 'array', 'items': {'type': 'object', 'properties': {'text': {'type': 'object', 'properties': {'content': {'type': 'string', 'description': 'The content of the comment'}}, 'required': ['content'], 'additionalProperties': True}}, 'required': ['text'], 'additionalProperties': True}}}, 'required': ['parent', 'rich_text']}, outputSchema=None, annotations=None, meta=None)]\n"
     ]
    }
   ],
   "source": [
    "import os\n",
    "import nest_asyncio\n",
    "import asyncio\n",
    "from dotenv import load_dotenv\n",
    "import traceback\n",
    "\n",
    "# Pour autoriser asyncio dans Jupyter\n",
    "nest_asyncio.apply()\n",
    "\n",
    "\n",
    "\n",
    "# Fonction principale\n",
    "async def main():\n",
    "    from agents.mcp.server import MCPServerStdio  # importer ici pour éviter certains conflits éventuels\n",
    "\n",
    "    try:\n",
    "        print(\" Clé API détectée :\", notion_key[:10] + \"...\")\n",
    "        async with MCPServerStdio(\n",
    "            params={\n",
    "                \"command\": \"npx\",\n",
    "                \"args\": [\"-y\", \"@notionhq/notion-mcp-server\"],\n",
    "                \"env\": {\n",
    "                    \"OPENAPI_MCP_HEADERS\": (\n",
    "                        \"{\\\"Authorization\\\": \\\"Bearer \" + notion_key + \"\\\", \"\n",
    "                        \"\\\"Notion-Version\\\": \\\"2022-06-28\\\"}\"\n",
    "                    )\n",
    "                },\n",
    "            }\n",
    "        ) as server:\n",
    "            tool_list = await server.list_tools()\n",
    "            print(\" Outils MCP disponibles :\", tool_list)\n",
    "\n",
    "    except Exception as e:\n",
    "        print(\" Erreur lors de la connexion au serveur MCP :\", e)\n",
    "        traceback.print_exc()\n",
    "\n",
    "#  Lancer le tout\n",
    "await main()\n"
   ]
  },
  {
   "cell_type": "markdown",
   "id": "cabd3aee-59bd-424c-9fa9-1f97d8abd6da",
   "metadata": {
    "scrolled": true
   },
   "source": [
    "### create run() with agent"
   ]
  },
  {
   "cell_type": "code",
   "execution_count": 17,
   "id": "7c866d92-2da4-44d0-a669-c5d2578ff2d5",
   "metadata": {},
   "outputs": [],
   "source": [
    "with open('context/example-2/instructions.md', 'r', encoding='utf-8') as file:\n",
    "    instructions = file.read()"
   ]
  },
  {
   "cell_type": "code",
   "execution_count": 18,
   "id": "a7435f67-94ea-4eba-b6ca-0c7de4a8e9d7",
   "metadata": {},
   "outputs": [
    {
     "data": {
      "text/plain": [
       "'# 🧠 Rôle de l’agent IA\\n\\nTu es un agent IA spécialisé dans la rédaction de posts LinkedIn à partir des notes enregistrées dans la base Notion intitulée **“Liste de lecture”**.\\n\\nTu rédiges des posts en **français**, dans un style clair, direct et structuré, sans clichés, sans langage motivationnel, et sans métaphores. Chaque post généré doit être **ajouté automatiquement** dans la base “Liste de lecture” avec les bonnes propriétés.\\n\\n---\\n\\n## ✅ Ta mission\\n\\n1. Lire les entrées disponibles dans la base Notion **“Liste de lecture”**\\n2. Générer un **post LinkedIn conforme aux règles ci-dessous**\\n3. Ajouter ce post comme **nouvelle ligne dans la base Notion** avec les propriétés suivantes :\\n\\n| Champ Notion            | Contenu généré ou fixe                     |\\n| ----------------------- | ------------------------------------------ |\\n| **Nom du contenu**      | Le titre du post LinkedIn                  |\\n| **Statut**              | `Idée` ou `En cours d’écriture`            |\\n| **Catégorie**           | `LinkedIn`                                 |\\n| **Format**              | `Post`                                     |\\n| **Contenu**             | Le corps complet du post LinkedIn          |\\n| **Date de publication** | (laisse vide, ou date à définir plus tard) |\\n\\n---\\n\\n## ✍️ Format attendu du post\\n\\n```\\n[Accroche factuelle (1 à 2 lignes maximum)]\\n\\n[Développement structuré, clair, technique, éducatif, ou basé sur un projet réel]\\n\\n[Une seule question ou appel à l’action factuel pour engager la discussion]\\n```\\n\\n* ❌ Pas de lien sauf instruction explicite\\n* ❌ Aucune anecdote ou résultat inventé\\n* ✅ Basé uniquement sur les données présentes dans la base Notion\\n\\n---\\n\\n## 🔚 Règles strictes à respecter\\n\\n* ❌ Maximum **1 seul tiret cadratin** `—` par post\\n* ❌ Interdiction des métaphores, du langage inspirationnel ou des clichés business\\n* ❌ Interdiction de formules du type :\\n\\n  * “Just do it”, “Ce qui ne te tue pas…”, “Raise the bar”, “Secret sauce”, etc.\\n* ❌ Pas de phrases motivationnelles type :\\n\\n  * “Qu’est-ce qui t’inspire ?”, “Quelle est ta plus grande leçon ?”, “Ne lâche rien”\\n* ✅ Toujours proposer une **valeur concrète** : idée, outil, framework, méthode\\n* ✅ Une **seule question finale** claire, directe et factuelle\\n\\n---\\n\\n## ✅ Checklist de qualité finale\\n\\n* [ ] Le post commence par une accroche claire et factuelle\\n* [ ] Le corps donne un aperçu structuré (étapes, retour, réflexion concrète)\\n* [ ] Une seule question ou CTA en fin de post\\n* [ ] Aucun cliché, aucune métaphore, aucune formulation vague\\n* [ ] Le post peut être ajouté tel quel à la base Notion “Liste de lecture”\\n\\n---\\n\\n## ⚙️ Rappel technique\\n\\n* L’agent doit utiliser l’API Notion pour créer une nouvelle ligne avec `notion.pages.create()`\\n* Il doit inclure les bons headers :\\n\\n  ```json\\n  {\\n    \"Authorization\": \"Bearer VOTRE_CLE_API\",\\n    \"Notion-Version\": \"2022-06-28\"\\n  }\\n  ```\\n* La base “Liste de lecture” doit être partagée avec l’intégration dans Notion\\n\\n---\\n'"
      ]
     },
     "execution_count": 18,
     "metadata": {},
     "output_type": "execute_result"
    }
   ],
   "source": [
    "instructions"
   ]
  },
  {
   "cell_type": "code",
   "execution_count": 19,
   "id": "f250f29f",
   "metadata": {},
   "outputs": [],
   "source": [
    "async def run(mcp_server: MCPServer):\n",
    "    agent = Agent(\n",
    "        name=\"Notion Agent\",\n",
    "        model=\"gpt-4o\",\n",
    "        instructions=instructions,\n",
    "        mcp_servers=[mcp_server],\n",
    "    )\n",
    "    ModelSettings.tool_choice = \"required\"\n",
    "    \n",
    "    input_items = []\n",
    "\n",
    "    print(\"=== Notion AI Agent ===\")\n",
    "    print(\"Type 'exit' to end the conversation\")\n",
    "\n",
    "    while True:\n",
    "        # Get user input\n",
    "        user_input = input(\"\\nUser: \").strip()\n",
    "        input_items.append({\"content\": user_input, \"role\": \"user\"})\n",
    "        \n",
    "        # Check for exit command\n",
    "        if user_input.lower() in ['exit', 'quit', 'bye']:\n",
    "            print(\"\\nGoodbye!\")\n",
    "            break\n",
    "            \n",
    "        if not user_input:\n",
    "            continue\n",
    "\n",
    "        print(\"\\nAgent: \", end=\"\", flush=True)\n",
    "        result = Runner.run_streamed(\n",
    "            agent,\n",
    "            input=input_items,\n",
    "        )\n",
    "        \n",
    "        async for event in result.stream_events():\n",
    "            # We'll ignore the raw responses event deltas for text\n",
    "            if event.type == \"raw_response_event\" and isinstance(event.data, ResponseTextDeltaEvent):\n",
    "                print(event.data.delta, end=\"\", flush=True)\n",
    "            elif event.type == \"run_item_stream_event\":\n",
    "                if event.item.type == \"tool_call_item\":\n",
    "                    print(f\"\\n-- Calling Tool: {event.item.raw_item.name}...\")\n",
    "                elif event.item.type == \"tool_call_output_item\":\n",
    "                    print(\"-- Tool call completed.\")\n",
    "                elif event.item.type == \"message_output_item\":\n",
    "                    input_items.append({\"content\": f\"{event.item.raw_item.content[0].text}\", \"role\": \"assistant\"})\n",
    "                else:\n",
    "                    pass  # Ignore other event types\n",
    "\n",
    "        print(\"\\n\")  # Add a newline after each response"
   ]
  },
  {
   "cell_type": "code",
   "execution_count": 20,
   "id": "80bf5105-70c4-4e81-b64c-f1aa15f7c301",
   "metadata": {},
   "outputs": [
    {
     "name": "stdout",
     "output_type": "stream",
     "text": [
      "=== Agent IA Notion ===\n",
      "Tapez 'exit', 'quit' ou 'bye' pour quitter.\n",
      "\n"
     ]
    },
    {
     "name": "stdin",
     "output_type": "stream",
     "text": [
      "\n",
      "Vous :  donne moi la liste des livres que j'ai lu\n"
     ]
    },
    {
     "name": "stdout",
     "output_type": "stream",
     "text": [
      "\n",
      "Agent : \n",
      "-- 🔧 Appel outil : API-post-search\n",
      "\n",
      "-- ✅ Outil terminé.\n",
      "\n",
      "-- 🔧 Appel outil : API-post-database-query\n",
      "\n",
      "-- ✅ Outil terminé.\n",
      "Je ne peux pas accéder à la liste des livres que vous avez lus car la structure de la base Notion “Liste de lecture” présente un problème technique (“schéma mal formé”). \n",
      "\n",
      "Je vous recommande de vérifier ou corriger la structure de la base dans Notion (types de champs, propriété principale, colonnes obligatoires), puis de me reposer la question pour que je puisse extraire la liste demandée. \n",
      "\n",
      "Si besoin, dites-moi si vous souhaitez une aide pour structurer correctement cette base."
     ]
    },
    {
     "name": "stdin",
     "output_type": "stream",
     "text": [
      "\n",
      "Vous :  donne moi la liste des livres dans liste de lecture\n"
     ]
    },
    {
     "name": "stdout",
     "output_type": "stream",
     "text": [
      "\n",
      "Agent : \n",
      "-- 🔧 Appel outil : API-post-search\n",
      "\n",
      "-- ✅ Outil terminé.\n",
      "\n",
      "-- 🔧 Appel outil : API-post-database-query\n",
      "\n",
      "-- ✅ Outil terminé.\n",
      "Je ne peux pas extraire la liste des livres de la base “Liste de lecture” car le schéma de la base Notion présente un problème technique (“schema malformé”). Cela bloque toute interrogation automatique.\n",
      "\n",
      "Voici comment résoudre ce problème :\n",
      "- Ouvrez la base “Liste de lecture” dans Notion.\n",
      "- Vérifiez qu’il existe bien une colonne de titre (de type “title”) et d’autres colonnes standard.\n",
      "- Vérifiez que la structure (types de champs, noms, propriétés obligatoires) est cohérente et non corrompue.\n",
      "- Partagez bien la base avec l’intégration Notion utilisée.\n",
      "\n",
      "Vous pourrez ensuite me demander à nouveau la liste des livres, ou toute autre extraction automatique. Si besoin, dites-moi si vous souhaitez des conseils pour structurer ou réparer cette base Notion."
     ]
    },
    {
     "name": "stdin",
     "output_type": "stream",
     "text": [
      "\n",
      "Vous :  donne moi la liste des éléments\n"
     ]
    },
    {
     "name": "stdout",
     "output_type": "stream",
     "text": [
      "\n",
      "Agent : \n",
      "-- 🔧 Appel outil : API-post-search\n",
      "\n",
      "-- ✅ Outil terminé.\n",
      "\n",
      "-- 🔧 Appel outil : API-post-database-query\n",
      "\n",
      "-- ✅ Outil terminé.\n",
      "Voici la liste des “livres” présents dans la base “Liste de lecture” (entrées avec le type “Livre”) :\n",
      "\n",
      "1. Kilomètre zéro — MAUD ANKAOUA\n",
      "2. Tous les marketeurs sont des menteurs (racontent des histoires) — Seth GODIN\n",
      "3. The Psychology of Money — Morgan Housel\n",
      "4. Le guide du COPYWRITING — selim NIederhoffer\n",
      "5. Votre Empire dans un sac à dos — Stan Leloup\n",
      "6. Who Not How — Dan Sullivan\n",
      "7. Million Dollar Weekend — Noah Kagan\n",
      "8. L’intellligence émotionnelle — Dr Laurent Alexandre\n",
      "9. Les mots sont les fenêtres (ou bien ce sont des murs) — Marshall B. Rosenberg\n",
      "10. 1984 — George Orwell\n",
      "\n",
      "Si vous souhaitez plus d’informations sur chaque livre (liens, notes, dates), dites-le-moi !"
     ]
    },
    {
     "name": "stdin",
     "output_type": "stream",
     "text": [
      "\n",
      "Vous :  je vuex plu d'infos sur le livre les mots sont des fenêtres et fait une publication linkedin\n"
     ]
    },
    {
     "name": "stdout",
     "output_type": "stream",
     "text": [
      "\n",
      "Agent : \n",
      "-- 🔧 Appel outil : API-post-database-query\n",
      "\n",
      "-- ✅ Outil terminé.\n",
      "Je n’ai pas pu accéder aux détails du livre \"Les mots sont des fenêtres (ou bien ce sont des murs)\" car le système signale que l’identifiant de la base Notion “Liste de lecture” n’est pas au format attendu (UUID).\n",
      "\n",
      "Pour que je puisse générer la publication LinkedIn et récupérer les informations détaillées du livre, il me faudrait l’identifiant unique de la base (généralement un long code de lettres et chiffres dans l’URL Notion). Vous pouvez me le fournir ou me donner la bonne structure/partage, et je pourrai ensuite vous rédiger le post LinkedIn comme demandé.\n",
      "\n",
      "En attendant, si vous souhaitez un exemple de post LinkedIn type pour ce livre à partir de son titre uniquement, dites-le-moi."
     ]
    },
    {
     "name": "stdin",
     "output_type": "stream",
     "text": [
      "\n",
      "Vous :  quels sont les identifiants que tu as?\n"
     ]
    },
    {
     "name": "stdout",
     "output_type": "stream",
     "text": [
      "\n",
      "Agent : \n",
      "-- 🔧 Appel outil : API-post-search\n",
      "\n",
      "-- ✅ Outil terminé.\n",
      "Voici les identifiants des bases Notion que j’ai trouvées contenant “Liste de lecture” ou un nom proche :\n",
      "\n",
      "1. **Liste de lectures**\n",
      "   - ID : 64e1c78d-6946-427f-be5e-19787725fb35\n",
      "\n",
      "2. **Création de contenu**\n",
      "   - ID : c18f4f0e-7eae-48d1-84f8-0a6947e83986\n",
      "\n",
      "Si tu souhaites interagir avec la base “Liste de lectures”, merci de confirmer que c’est bien celle-ci (1) et si c’est le bon ID à utiliser pour la suite. Indique-moi aussi si tu veux continuer sur ce support (génération de post LinkedIn, extraction de données, etc.)."
     ]
    },
    {
     "name": "stdin",
     "output_type": "stream",
     "text": [
      "\n",
      "Vous :  ajoute le livre  agent ia ici 64e1c78d-6946-427f-be5e-19787725fb35\n"
     ]
    },
    {
     "name": "stdout",
     "output_type": "stream",
     "text": [
      "\n",
      "Agent : \n",
      "-- 🔧 Appel outil : API-post-page\n",
      "\n",
      "-- ✅ Outil terminé.\n",
      "Je ne peux pas ajouter le livre \"agent ia\" à la base “Liste de lectures” car l’identifiant fourni (64e1c78d-6946-427f-be5e-19787725fb35) ne correspond pas à une page ou base partagée avec l’intégration Notion utilisée. Notion indique que l’objet est introuvable ou non partagé.\n",
      "\n",
      "Ce que tu peux vérifier :\n",
      "\n",
      "1. Ouvre la base “Liste de lectures” dans Notion.\n",
      "2. Clique sur “Partager” et assure-toi que l’intégration connectée (« Notion API », “agent IA”, etc.) a bien accès à cette base.\n",
      "3. Si besoin, copie-colle à nouveau l’identifiant, ou partage explicitement la base avec l’intégration.\n",
      "\n",
      "Dès que l’accès est activé, je pourrai ajouter le livre et poursuivre tes demandes."
     ]
    },
    {
     "name": "stdin",
     "output_type": "stream",
     "text": [
      "\n",
      "Vous :  ajoute la vidéo mcp dans c18f4f0e-7eae-48d1-84f8-0a6947e83986\n"
     ]
    },
    {
     "name": "stdout",
     "output_type": "stream",
     "text": [
      "\n",
      "Agent : \n",
      "-- 🔧 Appel outil : API-post-page\n",
      "\n",
      "-- ✅ Outil terminé.\n",
      "Impossible d’ajouter la vidéo \"mcp\" : la page ou base dont l’ID est c18f4f0e-7eae-48d1-84f8-0a6947e83986 n’est pas accessible à cette intégration Notion (“object_not_found”).\n",
      "\n",
      "Merci de vérifier et de partager explicitement cette page ou base avec l’intégration API Notion que tu utilises. Une fois l’accès activé, je pourrai ajouter la vidéo ou toute autre ressource à ta base."
     ]
    },
    {
     "name": "stdin",
     "output_type": "stream",
     "text": [
      "\n",
      "Vous :  bye\n"
     ]
    },
    {
     "name": "stdout",
     "output_type": "stream",
     "text": [
      "👋 Session terminée.\n"
     ]
    },
    {
     "name": "stdout",
     "output_type": "stream",
     "text": [
      "\n",
      "Vous :  donne moi ma liste de lecture\n"
     ]
    },
    {
     "name": "stdout",
     "output_type": "stream",
     "text": [
      "\n",
      "Agent : \n",
      "-- 🔧 Appel outil : API-post-search\n",
      "\n",
      "-- ✅ Outil terminé.\n",
      "\n",
      "-- 🔧 Appel outil : API-post-database-query\n",
      "\n",
      "-- ✅ Outil terminé.\n",
      "Voici ta “liste de lecture” Notion avec les 10 derniers contenus enregistrés :\n",
      "\n",
      "1. **LIve Comment gagner de l’argent avec les réseaux sociaux** — Série TV  \n",
      "   Statut : Pas commencé\n",
      "\n",
      "2. **POdcast Think Media** — Série TV  \n",
      "   Statut : Pas commencé\n",
      "\n",
      "3. **Challenge in**  \n",
      "   Statut : Pas commencé\n",
      "\n",
      "4. **From Zero to hero de Caroline Mignaux** — Livre  \n",
      "   Statut : Pas commencé\n",
      "\n",
      "5. **The road less stupid** — Livre (Auteur : Keith Cunnin, Lien Audible disponible)  \n",
      "   Statut : Pas commencé\n",
      "\n",
      "6. **The 12 Week Year** — Livre (Auteur : Brian P. MORAN, Lien Audible disponible)  \n",
      "   Statut : Pas commencé\n",
      "\n",
      "7. **The Savings Expert: “Do Not Buy A House!” Do THIS Instead! - Morgan Housel** — Video Youtube  \n",
      "   Statut : Pas commencé\n",
      "\n",
      "8. **Who Not How** — Livre (Auteur : Dan Sullivan, Lien Amazon disponible)  \n",
      "   Statut : En cours\n",
      "\n",
      "9. **40 Harsh Truths I Know at 40 but Wish I Knew at 20** — Video Youtube (Auteur : Mark Manson, Lien Youtube disponible)  \n",
      "   Statut : Terminé\n",
      "\n",
      "10. **5 Productive Things to Do Instead of Mindless Scrolling** — Video Youtube  \n",
      "    Statut : Terminé\n",
      "\n",
      "Tu veux un post LinkedIn à partir d’une de ces entrées ? Si oui, précise le titre ou le numéro en question."
     ]
    },
    {
     "name": "stdout",
     "output_type": "stream",
     "text": [
      "\n",
      "Vous :  donne moi la liste de publication que je dois rélaiser?\n"
     ]
    },
    {
     "name": "stdout",
     "output_type": "stream",
     "text": [
      "\n",
      "Agent : \n",
      "-- 🔧 Appel outil : API-post-database-query\n",
      "\n",
      "-- ✅ Outil terminé.\n",
      "Je n’ai pas accès au fichier source Notion car l’identifiant de la base “Liste de lecture” doit être un code unique (UUID), et non le nom littéral de la base.\n",
      "\n",
      "Pour t’aider, il me faudrait l’identifiant (UUID) exact de la base Notion “Liste de lecture”. \n",
      "—\n",
      "Peux-tu soit :\n",
      "- M’indiquer l’UUID de la base (dans l’URL Notion après le dernier slash, une suite de chiffres et de lettres séparés par des tirets),\n",
      "- Ou partager la base avec l’intégration IA pour autoriser l’accès.\n",
      "\n",
      "Dès que j’ai accès à l’UUID, je pourrai te fournir la liste précise des contenus à publier selon leur statut (\"Idée\", \"En cours d’écriture\", etc.)."
     ]
    },
    {
     "name": "stdout",
     "output_type": "stream",
     "text": [
      "\n",
      "Vous :  je veux plutôt un post linkedin sur ma liste de lecture\n"
     ]
    },
    {
     "name": "stdout",
     "output_type": "stream",
     "text": [
      "\n",
      "Agent : \n",
      "-- 🔧 Appel outil : API-post-search\n",
      "\n",
      "-- ✅ Outil terminé.\n",
      "\n",
      "-- 🔧 Appel outil : API-post-database-query\n",
      "\n",
      "-- ✅ Outil terminé.\n",
      "Voici un post LinkedIn structuré à partir de ta “liste de lecture” :\n",
      "\n",
      "---\n",
      "\n",
      "**Accroche**  \n",
      "Gérer sa veille ne se limite plus aux livres : ma “liste de lecture” regroupe aussi podcasts, vidéos et séries.\n",
      "\n",
      "**Développement**  \n",
      "Centraliser différents formats dans un tableau unique permet de suivre l’avancée, croiser les idées et revenir facilement sur un outil, une méthode, ou une recommandation importante. Voici ce que j’ai récemment ajouté :\n",
      "- “The road less stupid” (Keith Cunnin : livre)\n",
      "- “The 12 Week Year” (Brian P. MORAN : livre)\n",
      "- “Who Not How” (Dan Sullivan : livre)\n",
      "- “40 Harsh Truths I Know at 40 but Wish I Knew at 20” (Mark Manson : vidéo)\n",
      "- “5 Productive Things to Do Instead of Mindless Scrolling” (vidéo)\n",
      "- “From Zero to hero de Caroline Mignaux” (livre)\n",
      "- “LIve : Comment gagner de l’argent avec les réseaux sociaux” (série TV)\n",
      "- “POdcast Think Media” (podcast)\n",
      "\n",
      "Toutes les ressources sont classées selon leur statut, la source, le format, et l’auteur. Cela me permet de varier les approches et de repérer rapidement où j’en suis.\n",
      "\n",
      "**Appel à l’action**  \n",
      "Comment organises-tu ta veille ? Utilises-tu des outils pour rassembler tous tes contenus ?\n",
      "\n",
      "---\n",
      "\n",
      "Ce post peut être utilisé pour LinkedIn tel quel et sera ajouté dans ta base Notion avec les bons champs. Souhaites-tu que je publie ce post dans ta base “Liste de lecture” ?"
     ]
    },
    {
     "name": "stdout",
     "output_type": "stream",
     "text": [
      "\n",
      "Vous :  Oui ajoute ce poste dans ma base liste de lecture\n"
     ]
    },
    {
     "name": "stdout",
     "output_type": "stream",
     "text": [
      "\n",
      "Agent : \n",
      "-- 🔧 Appel outil : API-post-search\n",
      "\n",
      "-- ✅ Outil terminé.\n",
      "\n",
      "-- 🔧 Appel outil : API-post-page\n",
      "\n",
      "-- ✅ Outil terminé.\n",
      "Je n’ai pas pu ajouter le post car la propriété “Contenu” n’a pas été reconnue comme éditable dans ta base Notion “Création de contenu”.  \n",
      "Cela peut venir d’un écart entre les champs attendus et ceux existants dans ta base.\n",
      "\n",
      "Vérifie dans ta base “Création de contenu” (ou “Liste de lecture” si c’est bien celle-là) :\n",
      "- La propriété pour le texte du post s’intitule-t-elle bien “Contenu” ? \n",
      "- Sinon, précises-tu le bon nom (par exemple : “Texte”, “Body”, ou autre tournée exacte) ?\n",
      "\n",
      "Merci de m’indiquer l’intitulé exact du champ destiné à contenir le corps du post, ou d’ajouter ce champ si besoin. Dès que c’est clarifié, je pourrai publier automatiquement le post dans ta base Notion."
     ]
    },
    {
     "name": "stdout",
     "output_type": "stream",
     "text": [
      "\n",
      "Vous :  met plutot dans la base création de contenu et choisi toi même les champs ne me pose plus de question\n"
     ]
    },
    {
     "name": "stdout",
     "output_type": "stream",
     "text": [
      "\n",
      "Agent : \n",
      "-- 🔧 Appel outil : API-post-page\n",
      "\n",
      "-- ✅ Outil terminé.\n",
      "Je ne peux pas ajouter le post tant que je n’ai pas l’identifiant unique (UUID) de ta base Notion “Création de contenu”.\n",
      "\n",
      "Pour créer une nouvelle ligne automatiquement, il me faut ce code unique que tu trouves dans l’URL de ta base Notion, juste après notion.so/… et avant le point d’interrogation ou le slash : par exemple, 123abc45-678d-90ef-gh12-ijkl345678mn. \n",
      "\n",
      "Dès que tu fournis cet identifiant (aucune autre information n’est nécessaire), le post sera publié directement dans ta base “Création de contenu”."
     ]
    },
    {
     "name": "stdout",
     "output_type": "stream",
     "text": [
      "\n",
      "Vous :  met dans n'importe quel page et envoie moi le lien\n"
     ]
    },
    {
     "name": "stdout",
     "output_type": "stream",
     "text": [
      "\n",
      "Agent : \n",
      "-- 🔧 Appel outil : API-post-search\n",
      "\n",
      "-- ✅ Outil terminé.\n",
      "\n",
      "-- 🔧 Appel outil : API-post-page\n",
      "\n",
      "-- ✅ Outil terminé.\n",
      "Je n’ai pas pu ajouter le post automatiquement car la structure des contenus n’était pas acceptée par Notion (erreur de format json sur les blocs enfants).\n",
      "\n",
      "Voici le texte prêt à être copié-collé manuellement dans ta base Notion “Création de contenu” ou “Liste de lectures” :\n",
      "\n",
      "---\n",
      "\n",
      "**Structurer sa veille avec une liste de lecture variée**\n",
      "\n",
      "Gérer sa veille ne se limite plus aux livres : ma “liste de lecture” regroupe aussi podcasts, vidéos et séries.\n",
      "\n",
      "Centraliser différents formats dans un tableau unique permet de suivre l’avancée, croiser les idées et revenir facilement sur un outil, une méthode, ou une recommandation importante. Voici ce que j’ai récemment ajouté :\n",
      "- “The road less stupid” (Keith Cunnin : livre)\n",
      "- “The 12 Week Year” (Brian P. MORAN : livre)\n",
      "- “Who Not How” (Dan Sullivan : livre)\n",
      "- “40 Harsh Truths I Know at 40 but Wish I Knew at 20” (Mark Manson : vidéo)\n",
      "- “5 Productive Things to Do Instead of Mindless Scrolling” (vidéo)\n",
      "- “From Zero to hero de Caroline Mignaux” (livre)\n",
      "- “LIve : Comment gagner de l’argent avec les réseaux sociaux” (série TV)\n",
      "- “POdcast Think Media” (podcast)\n",
      "\n",
      "Toutes les ressources sont classées selon leur statut, la source, le format, et l’auteur. Cela me permet de varier les approches et de repérer rapidement où j’en suis.\n",
      "\n",
      "Comment organises-tu ta veille ? Utilises-tu des outils pour rassembler tous tes contenus ?\n",
      "\n",
      "---\n",
      "\n",
      "Si tu me donnes la structure exacte de ta base ou ajoutes un champ de type “texte long”, je pourrai générer et insérer le post de façon automatique ! Pour l’instant, voici le texte prêt à l’emploi."
     ]
    },
    {
     "name": "stdout",
     "output_type": "stream",
     "text": [
      "\n",
      "Vous :  bye\n"
     ]
    },
    {
     "name": "stdout",
     "output_type": "stream",
     "text": [
      "👋 Session terminée.\n"
     ]
    }
   ],
   "source": [
    "import asyncio\n",
    "import nest_asyncio\n",
    "import os\n",
    "import json\n",
    "from dotenv import load_dotenv\n",
    "from agents import Agent, Runner, ModelSettings\n",
    "from agents.mcp.server import MCPServerStdio\n",
    "from openai.types.responses import ResponseTextDeltaEvent\n",
    "\n",
    "# 📌 Appliquer nest_asyncio pour Jupyter\n",
    "nest_asyncio.apply()\n",
    "\n",
    "# ✅ Préparer les headers pour l’API MCP Notion\n",
    "headers = {\n",
    "    \"Authorization\": f\"Bearer {notion_key}\",\n",
    "    \"Notion-Version\": \"2022-06-28\"\n",
    "}\n",
    "# 🔁 Fonction principale pour démarrer l'agent\n",
    "async def run_notion_agent_notebook():\n",
    "    async with MCPServerStdio(\n",
    "        params={\n",
    "            \"command\": \"npx\",\n",
    "            \"args\": [\"-y\", \"@notionhq/notion-mcp-server\"],\n",
    "            \"env\": {\n",
    "                \"OPENAPI_MCP_HEADERS\": json.dumps(headers)\n",
    "            },\n",
    "        }\n",
    "    ) as mcp_server:\n",
    "\n",
    "        agent = Agent(\n",
    "            name=\"Notion Agent\",\n",
    "            model=\"gpt-4.1-2025-04-14\",\n",
    "            instructions=instructions,\n",
    "            mcp_servers=[mcp_server],\n",
    "        )\n",
    "\n",
    "        ModelSettings.tool_choice = \"required\"\n",
    "        input_items = []\n",
    "\n",
    "        print(\"=== Agent IA Notion ===\")\n",
    "        print(\"Tapez 'exit', 'quit' ou 'bye' pour quitter.\\n\")\n",
    "\n",
    "        while True:\n",
    "            user_input = input(\"\\nVous : \").strip()\n",
    "\n",
    "            if user_input.lower() in [\"exit\", \"quit\", \"bye\"]:\n",
    "                print(\"👋 Session terminée.\")\n",
    "                break\n",
    "\n",
    "            if not user_input:\n",
    "                continue\n",
    "\n",
    "            input_items.append({\"content\": user_input, \"role\": \"user\"})\n",
    "            print(\"\\nAgent : \", end=\"\", flush=True)\n",
    "\n",
    "            result = Runner.run_streamed(agent, input_items)\n",
    "\n",
    "            async for event in result.stream_events():\n",
    "                if event.type == \"raw_response_event\" and isinstance(event.data, ResponseTextDeltaEvent):\n",
    "                    print(event.data.delta, end=\"\", flush=True)\n",
    "                elif event.type == \"run_item_stream_event\":\n",
    "                    if event.item.type == \"tool_call_item\":\n",
    "                        print(f\"\\n-- 🔧 Appel outil : {event.item.raw_item.name}\")\n",
    "                    elif event.item.type == \"tool_call_output_item\":\n",
    "                        print(\"\\n-- ✅ Outil terminé.\")\n",
    "                    elif event.item.type == \"message_output_item\":\n",
    "                        input_items.append({\n",
    "                            \"content\": event.item.raw_item.content[0].text,\n",
    "                            \"role\": \"assistant\"\n",
    "                        })\n",
    "\n",
    "# ▶️ Exécute ceci dans une cellule suivante pour démarrer :\n",
    "await run_notion_agent_notebook()\n"
   ]
  },
  {
   "cell_type": "markdown",
   "id": "878a207c-44de-4397-923a-e6a932004a2f",
   "metadata": {},
   "source": [
    "### run agent"
   ]
  },
  {
   "cell_type": "code",
   "execution_count": 29,
   "id": "e4eee149-6f97-4a9a-88d7-652819156c69",
   "metadata": {},
   "outputs": [
    {
     "name": "stdout",
     "output_type": "stream",
     "text": [
      " Clé API détectée : ntn_479001...\n",
      " Outils MCP disponibles : [Tool(name='API-get-user', title=None, description='Retrieve a user\\nError Responses:\\n400: 400', inputSchema={'$defs': {}, 'type': 'object', 'properties': {'user_id': {'type': 'string', 'format': 'uuid'}}, 'required': ['user_id']}, outputSchema=None, annotations=None, meta=None), Tool(name='API-get-users', title=None, description='List all users\\nError Responses:\\n400: 400', inputSchema={'$defs': {}, 'type': 'object', 'properties': {'start_cursor': {'type': 'string', 'description': 'If supplied, this endpoint will return a page of results starting after the cursor provided. If not supplied, this endpoint will return the first page of results.'}, 'page_size': {'type': 'integer', 'default': 100, 'description': 'The number of items from the full list desired in the response. Maximum: 100'}}, 'required': []}, outputSchema=None, annotations=None, meta=None), Tool(name='API-get-self', title=None, description=\"Retrieve your token's bot user\", inputSchema={'$defs': {}, 'type': 'object', 'properties': {}, 'required': []}, outputSchema=None, annotations=None, meta=None), Tool(name='API-post-database-query', title=None, description='Query a database', inputSchema={'$defs': {}, 'type': 'object', 'properties': {'database_id': {'type': 'string', 'description': 'Identifier for a Notion database.'}, 'filter_properties': {'type': 'array', 'items': {'type': 'string'}, 'description': 'A list of page property value IDs associated with the database. Use this param to limit the response to a specific page property value or values for pages that meet the `filter` criteria.'}, 'filter': {'type': 'object', 'description': 'When supplied, limits which pages are returned based on the [filter conditions](ref:post-database-query-filter).', 'additionalProperties': True}, 'sorts': {'type': 'array', 'description': 'When supplied, orders the results based on the provided [sort criteria](ref:post-database-query-sort).', 'items': {'type': 'object', 'properties': {'property': {'type': 'string'}, 'direction': {'type': 'string', 'enum': ['ascending', 'descending']}}, 'required': ['property', 'direction'], 'additionalProperties': True}}, 'start_cursor': {'type': 'string', 'description': 'When supplied, returns a page of results starting after the cursor provided. If not supplied, this endpoint will return the first page of results.'}, 'page_size': {'type': 'integer', 'description': 'The number of items from the full list desired in the response. Maximum: 100', 'default': 100}, 'archived': {'type': 'boolean'}, 'in_trash': {'type': 'boolean'}}, 'required': ['database_id']}, outputSchema=None, annotations=None, meta=None), Tool(name='API-post-search', title=None, description='Search by title', inputSchema={'$defs': {}, 'type': 'object', 'properties': {'query': {'type': 'string', 'description': 'The text that the API compares page and database titles against.'}, 'sort': {'type': 'object', 'description': 'A set of criteria, `direction` and `timestamp` keys, that orders the results. The **only** supported timestamp value is `\"last_edited_time\"`. Supported `direction` values are `\"ascending\"` and `\"descending\"`. If `sort` is not provided, then the most recently edited results are returned first.', 'properties': {'direction': {'type': 'string', 'description': 'The direction to sort. Possible values include `ascending` and `descending`.'}, 'timestamp': {'type': 'string', 'description': 'The name of the timestamp to sort against. Possible values include `last_edited_time`.'}}, 'additionalProperties': True}, 'filter': {'type': 'object', 'description': 'A set of criteria, `value` and `property` keys, that limits the results to either only pages or only databases. Possible `value` values are `\"page\"` or `\"database\"`. The only supported `property` value is `\"object\"`.', 'properties': {'value': {'type': 'string', 'description': 'The value of the property to filter the results by.  Possible values for object type include `page` or `database`.  **Limitation**: Currently the only filter allowed is `object` which will filter by type of object (either `page` or `database`)'}, 'property': {'type': 'string', 'description': 'The name of the property to filter by. Currently the only property you can filter by is the object type.  Possible values include `object`.   Limitation: Currently the only filter allowed is `object` which will filter by type of object (either `page` or `database`)'}}, 'additionalProperties': True}, 'start_cursor': {'type': 'string', 'description': 'A `cursor` value returned in a previous response that If supplied, limits the response to results starting after the `cursor`. If not supplied, then the first page of results is returned. Refer to [pagination](https://developers.notion.com/reference/intro#pagination) for more details.'}, 'page_size': {'type': 'integer', 'format': 'int32', 'description': 'The number of items from the full list to include in the response. Maximum: `100`.', 'default': 100}}, 'required': []}, outputSchema=None, annotations=None, meta=None), Tool(name='API-get-block-children', title=None, description='Retrieve block children', inputSchema={'$defs': {}, 'type': 'object', 'properties': {'block_id': {'type': 'string', 'description': 'Identifier for a [block](ref:block)'}, 'start_cursor': {'type': 'string', 'description': 'If supplied, this endpoint will return a page of results starting after the cursor provided. If not supplied, this endpoint will return the first page of results.'}, 'page_size': {'type': 'integer', 'format': 'int32', 'default': 100, 'description': 'The number of items from the full list desired in the response. Maximum: 100'}}, 'required': ['block_id']}, outputSchema=None, annotations=None, meta=None), Tool(name='API-patch-block-children', title=None, description='Append block children', inputSchema={'$defs': {}, 'type': 'object', 'properties': {'block_id': {'type': 'string', 'description': 'Identifier for a [block](ref:block). Also accepts a [page](ref:page) ID.'}, 'children': {'type': 'array', 'description': 'Child content to append to a container block as an array of [block objects](ref:block)', 'items': {'type': 'object', 'properties': {'paragraph': {'type': 'object', 'properties': {'rich_text': {'type': 'array', 'items': {'type': 'object', 'properties': {'text': {'type': 'object', 'properties': {'content': {'type': 'string'}, 'link': {'type': ['object', 'null']}}, 'required': ['content'], 'additionalProperties': False}, 'type': {'type': 'string', 'enum': ['text']}}, 'required': ['text'], 'additionalProperties': False}}}, 'required': ['rich_text'], 'additionalProperties': False}, 'bulleted_list_item': {'type': 'object', 'properties': {'rich_text': {'type': 'array', 'items': {'type': 'object', 'properties': {'text': {'type': 'object', 'properties': {'content': {'type': 'string'}, 'link': {'type': ['object', 'null']}}, 'required': ['content'], 'additionalProperties': False}, 'type': {'type': 'string', 'enum': ['text']}}, 'required': ['text'], 'additionalProperties': False}}}, 'required': ['rich_text'], 'additionalProperties': False}, 'type': {'type': 'string', 'enum': ['paragraph', 'bulleted_list_item']}}, 'additionalProperties': False}}, 'after': {'type': 'string', 'description': 'The ID of the existing block that the new block should be appended after.'}}, 'required': ['block_id', 'children']}, outputSchema=None, annotations=None, meta=None), Tool(name='API-retrieve-a-block', title=None, description='Retrieve a block', inputSchema={'$defs': {}, 'type': 'object', 'properties': {'block_id': {'type': 'string', 'description': 'Identifier for a Notion block'}}, 'required': ['block_id']}, outputSchema=None, annotations=None, meta=None), Tool(name='API-update-a-block', title=None, description='Update a block', inputSchema={'$defs': {}, 'type': 'object', 'properties': {'block_id': {'type': 'string', 'description': 'Identifier for a Notion block'}, 'type': {'type': 'object', 'description': 'The [block object `type`](ref:block#block-object-keys) value with the properties to be updated. Currently only `text` (for supported block types) and `checked` (for `to_do` blocks) fields can be updated.', 'properties': {}, 'additionalProperties': True}, 'archived': {'type': 'boolean', 'description': 'Set to true to archive (delete) a block. Set to false to un-archive (restore) a block.', 'default': True}}, 'required': ['block_id']}, outputSchema=None, annotations=None, meta=None), Tool(name='API-delete-a-block', title=None, description='Delete a block', inputSchema={'$defs': {}, 'type': 'object', 'properties': {'block_id': {'type': 'string', 'description': 'Identifier for a Notion block'}}, 'required': ['block_id']}, outputSchema=None, annotations=None, meta=None), Tool(name='API-retrieve-a-page', title=None, description='Retrieve a page', inputSchema={'$defs': {}, 'type': 'object', 'properties': {'page_id': {'type': 'string', 'description': 'Identifier for a Notion page'}, 'filter_properties': {'type': 'string', 'description': 'A list of page property value IDs associated with the page. Use this param to limit the response to a specific page property value or values. To retrieve multiple properties, specify each page property ID. For example: `?filter_properties=iAk8&filter_properties=b7dh`.'}}, 'required': ['page_id']}, outputSchema=None, annotations=None, meta=None), Tool(name='API-patch-page', title=None, description='Update page properties', inputSchema={'$defs': {}, 'type': 'object', 'properties': {'page_id': {'type': 'string', 'description': 'The identifier for the Notion page to be updated.'}, 'properties': {'type': 'object', 'description': 'The property values to update for the page. The keys are the names or IDs of the property and the values are property values. If a page property ID is not included, then it is not changed.', 'properties': {'title': {'type': 'array', 'items': {'type': 'object', 'properties': {'text': {'type': 'object', 'properties': {'content': {'type': 'string'}, 'link': {'type': ['object', 'null']}}, 'required': ['content'], 'additionalProperties': False}, 'type': {'type': 'string', 'enum': ['text']}}, 'required': ['text'], 'additionalProperties': False}}, 'type': {'type': 'string', 'enum': ['title']}}, 'required': ['title'], 'additionalProperties': False}, 'in_trash': {'type': 'boolean', 'description': 'Set to true to delete a block. Set to false to restore a block.', 'default': False}, 'archived': {'type': 'boolean'}, 'icon': {'type': 'object', 'description': 'A page icon for the page. Supported types are [external file object](https://developers.notion.com/reference/file-object) or [emoji object](https://developers.notion.com/reference/emoji-object).', 'properties': {'emoji': {'type': 'string'}}, 'required': ['emoji'], 'additionalProperties': False}, 'cover': {'type': 'object', 'description': 'A cover image for the page. Only [external file objects](https://developers.notion.com/reference/file-object) are supported.', 'properties': {'external': {'type': 'object', 'properties': {'url': {'type': 'string'}}, 'required': ['url'], 'additionalProperties': False}, 'type': {'type': 'string', 'enum': ['external']}}, 'required': ['external'], 'additionalProperties': False}}, 'required': ['page_id']}, outputSchema=None, annotations=None, meta=None), Tool(name='API-post-page', title=None, description='Create a page', inputSchema={'$defs': {}, 'type': 'object', 'properties': {'parent': {'type': 'object', 'properties': {'page_id': {'type': 'string', 'format': 'uuid'}}, 'required': ['page_id'], 'additionalProperties': True}, 'properties': {'type': 'object', 'properties': {'title': {'type': 'array', 'items': {'type': 'object', 'properties': {'text': {'type': 'object', 'properties': {'content': {'type': 'string'}}, 'required': ['content'], 'additionalProperties': True}}, 'required': ['text'], 'additionalProperties': True}}, 'type': {'type': 'string', 'enum': ['title']}}, 'required': ['title'], 'additionalProperties': False}, 'children': {'type': 'array', 'description': 'The content to be rendered on the new page, represented as an array of [block objects](https://developers.notion.com/reference/block).', 'items': {'type': 'string'}}, 'icon': {'type': 'string', 'format': 'json', 'description': 'The icon of the new page. Either an [emoji object](https://developers.notion.com/reference/emoji-object) or an [external file object](https://developers.notion.com/reference/file-object)..'}, 'cover': {'type': 'string', 'format': 'json', 'description': 'The cover image of the new page, represented as a [file object](https://developers.notion.com/reference/file-object).'}}, 'required': ['parent', 'properties']}, outputSchema=None, annotations=None, meta=None), Tool(name='API-create-a-database', title=None, description='Create a database', inputSchema={'$defs': {}, 'type': 'object', 'properties': {'parent': {'type': 'object', 'properties': {'type': {'type': 'string', 'enum': ['page_id']}, 'page_id': {'type': 'string', 'format': 'uuid'}}, 'required': ['type', 'page_id'], 'additionalProperties': True}, 'properties': {'type': 'object', 'description': 'Property schema of database. The keys are the names of properties as they appear in Notion and the values are [property schema objects](https://developers.notion.com/reference/property-schema-object).', 'additionalProperties': {'oneOf': [{'type': 'object', 'properties': {'title': {'type': 'object', 'properties': {}, 'additionalProperties': False}, 'description': {'type': 'string'}}, 'required': ['title'], 'additionalProperties': False}]}}, 'title': {'type': 'array', 'items': {'type': 'object', 'properties': {'text': {'type': 'object', 'properties': {'content': {'type': 'string'}, 'link': {'type': ['object', 'null']}}, 'required': ['content'], 'additionalProperties': False}, 'type': {'type': 'string', 'enum': ['text']}}, 'required': ['text'], 'additionalProperties': False}}}, 'required': ['parent', 'properties']}, outputSchema=None, annotations=None, meta=None), Tool(name='API-update-a-database', title=None, description='Update a database', inputSchema={'$defs': {}, 'type': 'object', 'properties': {'database_id': {'type': 'string', 'description': 'identifier for a Notion database'}, 'title': {'type': 'array', 'description': 'An array of [rich text objects](https://developers.notion.com/reference/rich-text) that represents the title of the database that is displayed in the Notion UI. If omitted, then the database title remains unchanged.', 'items': {'type': 'object', 'properties': {'text': {'type': 'object', 'properties': {'content': {'type': 'string'}, 'link': {'type': ['object', 'null']}}, 'required': ['content'], 'additionalProperties': False}, 'type': {'type': 'string', 'enum': ['text']}}, 'required': ['text'], 'additionalProperties': False}}, 'description': {'type': 'array', 'description': 'An array of [rich text objects](https://developers.notion.com/reference/rich-text) that represents the description of the database that is displayed in the Notion UI. If omitted, then the database description remains unchanged.', 'items': {'type': 'object', 'properties': {'text': {'type': 'object', 'properties': {'content': {'type': 'string'}, 'link': {'type': ['object', 'null']}}, 'required': ['content'], 'additionalProperties': False}, 'type': {'type': 'string', 'enum': ['text']}}, 'required': ['text'], 'additionalProperties': False}}, 'properties': {'type': 'object', 'description': 'Property schema of database. The keys are the names of properties as they appear in Notion and the values are [property schema objects](https://developers.notion.com/reference/property-schema-object).', 'properties': {'name': {'type': 'string'}}, 'additionalProperties': True}}, 'required': ['database_id']}, outputSchema=None, annotations=None, meta=None), Tool(name='API-retrieve-a-database', title=None, description='Retrieve a database', inputSchema={'$defs': {}, 'type': 'object', 'properties': {'database_id': {'type': 'string', 'description': 'An identifier for the Notion database.'}}, 'required': ['database_id']}, outputSchema=None, annotations=None, meta=None), Tool(name='API-retrieve-a-page-property', title=None, description='Retrieve a page property item', inputSchema={'$defs': {}, 'type': 'object', 'properties': {'page_id': {'type': 'string', 'description': 'Identifier for a Notion page'}, 'property_id': {'type': 'string', 'description': 'Identifier for a page [property](https://developers.notion.com/reference/page#all-property-values)'}, 'page_size': {'type': 'integer', 'format': 'int32', 'description': 'For paginated properties. The max number of property item objects on a page. The default size is 100'}, 'start_cursor': {'type': 'string', 'description': 'For paginated properties.'}}, 'required': ['page_id', 'property_id']}, outputSchema=None, annotations=None, meta=None), Tool(name='API-retrieve-a-comment', title=None, description='Retrieve comments', inputSchema={'$defs': {}, 'type': 'object', 'properties': {'block_id': {'type': 'string', 'description': 'Identifier for a Notion block or page'}, 'start_cursor': {'type': 'string', 'description': 'If supplied, this endpoint will return a page of results starting after the cursor provided. If not supplied, this endpoint will return the first page of results.'}, 'page_size': {'type': 'integer', 'format': 'int32', 'description': 'The number of items from the full list desired in the response. Maximum: 100'}}, 'required': ['block_id']}, outputSchema=None, annotations=None, meta=None), Tool(name='API-create-a-comment', title=None, description='Create comment', inputSchema={'$defs': {}, 'type': 'object', 'properties': {'parent': {'type': 'object', 'description': 'The page that contains the comment', 'properties': {'page_id': {'type': 'string', 'description': 'the page ID'}}, 'required': ['page_id'], 'additionalProperties': True}, 'rich_text': {'type': 'array', 'items': {'type': 'object', 'properties': {'text': {'type': 'object', 'properties': {'content': {'type': 'string', 'description': 'The content of the comment'}}, 'required': ['content'], 'additionalProperties': True}}, 'required': ['text'], 'additionalProperties': True}}}, 'required': ['parent', 'rich_text']}, outputSchema=None, annotations=None, meta=None)]\n"
     ]
    },
    {
     "name": "stdout",
     "output_type": "stream",
     "text": [
      "\n",
      "User:  Return post ideas about business and entrepreneurship\n"
     ]
    }
   ],
   "source": [
    "await main()\n",
    "# find me posts about AI consulting"
   ]
  },
  {
   "cell_type": "code",
   "execution_count": 11,
   "id": "6c708192-577b-4432-934a-e49d99b07e4b",
   "metadata": {},
   "outputs": [],
   "source": [
    "# # to run in a .py script use\n",
    "# if __name__ == \"__main__\":\n",
    "#     asyncio.run(main())"
   ]
  }
 ],
 "metadata": {
  "kernelspec": {
   "display_name": "Python 3 (ipykernel)",
   "language": "python",
   "name": "python3"
  },
  "language_info": {
   "codemirror_mode": {
    "name": "ipython",
    "version": 3
   },
   "file_extension": ".py",
   "mimetype": "text/x-python",
   "name": "python",
   "nbconvert_exporter": "python",
   "pygments_lexer": "ipython3",
   "version": "3.10.18"
  }
 },
 "nbformat": 4,
 "nbformat_minor": 5
}
